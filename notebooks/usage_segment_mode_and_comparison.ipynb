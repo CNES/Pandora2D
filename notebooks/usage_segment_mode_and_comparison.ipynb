{
 "cells": [
  {
   "cell_type": "markdown",
   "id": "0",
   "metadata": {},
   "source": [
    "<img src=\"img/pandora2d_logo.png\" width=\"500\" height=\"500\">"
   ]
  },
  {
   "cell_type": "markdown",
   "id": "1",
   "metadata": {},
   "source": [
    "# Pandora2D : a coregistration framework"
   ]
  },
  {
   "cell_type": "markdown",
   "id": "2",
   "metadata": {},
   "source": [
    "# Segment mode and comparison with basic usage\n",
    "\n",
    "This notebook compares the basic usage (Option 1) with the segment mode (Option 2).\n",
    "It shows how to use segment mode and returns information about the number of segments for a given memory in MegaBytes.\n",
    "\n",
    "Note: The segment mode can be combined with a Region Of Interest (ROI). Only a standard example without ROI is provided in the following."
   ]
  },
  {
   "cell_type": "markdown",
   "id": "3",
   "metadata": {},
   "source": [
    "#### Imports and external functions"
   ]
  },
  {
   "cell_type": "code",
   "execution_count": null,
   "id": "4",
   "metadata": {},
   "outputs": [],
   "source": [
    "from pathlib import Path\n",
    "from pprint import pprint\n",
    "import numpy as np"
   ]
  },
  {
   "cell_type": "code",
   "execution_count": null,
   "id": "5",
   "metadata": {},
   "outputs": [],
   "source": [
    "from snippets.utils import *"
   ]
  },
  {
   "cell_type": "markdown",
   "id": "6",
   "metadata": {},
   "source": [
    "# Pandora2D execution options with state machine\n",
    "\n",
    "Without segment mode."
   ]
  },
  {
   "cell_type": "markdown",
   "id": "7",
   "metadata": {},
   "source": [
    "#### Imports of pandora2d"
   ]
  },
  {
   "cell_type": "code",
   "execution_count": null,
   "id": "8",
   "metadata": {},
   "outputs": [],
   "source": [
    "# Load pandora2d imports\n",
    "import pandora2d\n",
    "from pandora2d.state_machine import Pandora2DMachine\n",
    "from pandora2d.check_configuration import check_conf\n",
    "from pandora2d.img_tools import create_datasets_from_inputs"
   ]
  },
  {
   "cell_type": "markdown",
   "id": "9",
   "metadata": {},
   "source": [
    "#### Load and visualize input data "
   ]
  },
  {
   "cell_type": "markdown",
   "id": "10",
   "metadata": {},
   "source": [
    "Provide image path"
   ]
  },
  {
   "cell_type": "code",
   "execution_count": null,
   "id": "11",
   "metadata": {},
   "outputs": [],
   "source": [
    "# Paths to left and right images\n",
    "img_left_path = \"data/left.tif\"\n",
    "img_right_path = \"data/right.tif\""
   ]
  },
  {
   "cell_type": "markdown",
   "id": "12",
   "metadata": {},
   "source": [
    "Provide output directory to write results"
   ]
  },
  {
   "cell_type": "code",
   "execution_count": null,
   "id": "13",
   "metadata": {},
   "outputs": [],
   "source": [
    "output_dir = Path.cwd() / \"output\"\n",
    "# If necessary, create output dir\n",
    "output_dir.mkdir(exist_ok=True,parents=True)"
   ]
  },
  {
   "cell_type": "markdown",
   "id": "14",
   "metadata": {},
   "source": [
    "Convert input data to dataset"
   ]
  },
  {
   "cell_type": "code",
   "execution_count": null,
   "id": "15",
   "metadata": {},
   "outputs": [],
   "source": [
    "input_config = {\n",
    "    \"left\": {\"img\": img_left_path, \"nodata\": np.nan},\n",
    "    \"right\": {\"img\": img_right_path, \"nodata\": np.nan},\n",
    "    \"col_disparity\": {\"init\": 0, \"range\": 2},\n",
    "    \"row_disparity\": {\"init\": 0, \"range\": 2},\n",
    "}"
   ]
  },
  {
   "cell_type": "code",
   "execution_count": null,
   "id": "16",
   "metadata": {},
   "outputs": [],
   "source": [
    "img_left, img_right = create_datasets_from_inputs(input_config=input_config)"
   ]
  },
  {
   "cell_type": "markdown",
   "id": "17",
   "metadata": {},
   "source": [
    "`create_datasets_from_inputs` returns a namedTuple so we could have used:\n",
    "\n",
    "```python\n",
    "image_datasets = create_datasets_from_inputs(input_config=input_config)\n",
    "```\n",
    "\n",
    "and called:\n",
    "\n",
    " `image_datasets.left` or `image_datasets.right` instead of `img_left` and `img_right`."
   ]
  },
  {
   "cell_type": "code",
   "execution_count": null,
   "id": "18",
   "metadata": {},
   "outputs": [],
   "source": [
    "plot_two_images(img_left[\"im\"].data,\n",
    "                img_right[\"im\"].data,\n",
    "                \"Left image\",\n",
    "                \"Right image\",\n",
    "                output_dir)"
   ]
  },
  {
   "cell_type": "markdown",
   "id": "19",
   "metadata": {},
   "source": [
    "# Option 1 : trigger all the steps of the machine at ones"
   ]
  },
  {
   "cell_type": "markdown",
   "id": "20",
   "metadata": {},
   "source": [
    "#### Instantiate the machine"
   ]
  },
  {
   "cell_type": "code",
   "execution_count": null,
   "id": "21",
   "metadata": {},
   "outputs": [],
   "source": [
    "pandora2d_machine = Pandora2DMachine()"
   ]
  },
  {
   "cell_type": "markdown",
   "id": "22",
   "metadata": {},
   "source": [
    "#### Define pipeline configuration"
   ]
  },
  {
   "cell_type": "code",
   "execution_count": null,
   "id": "23",
   "metadata": {},
   "outputs": [],
   "source": [
    "user_cfg = {\n",
    "    \"input\": {\n",
    "        \"left\": {\n",
    "            \"img\": \"data/left.tif\",\n",
    "            \"nodata\": \"NaN\",\n",
    "        },\n",
    "        \"right\": {\n",
    "            \"img\": \"data/right.tif\",\n",
    "        },\n",
    "        \"col_disparity\": {\"init\": 0, \"range\": 2},\n",
    "        \"row_disparity\": {\"init\": 0, \"range\": 2},\n",
    "    },\n",
    "    \"pipeline\":{\n",
    "        \"matching_cost\" : {\n",
    "            \"matching_cost_method\": \"zncc_python\",\n",
    "            \"subpix\": 4,\n",
    "            \"window_size\": 5,\n",
    "        },\n",
    "        \"disparity\": {\n",
    "            \"disparity_method\": \"wta\",\n",
    "            \"invalid_disparity\": -5\n",
    "        },\n",
    "        \"refinement\" : {\n",
    "            \"refinement_method\": \"dichotomy\",\n",
    "            \"iterations\": 2,\n",
    "            \"filter\": {\"method\": \"bicubic\"},\n",
    "        }\n",
    "    },\n",
    "    \"output\": {\n",
    "        \"path\": \"outputs/basic_usage_for_comparison\"\n",
    "    },\n",
    "}"
   ]
  },
  {
   "cell_type": "markdown",
   "id": "24",
   "metadata": {},
   "source": [
    "#### Check the configuration and sequence of steps"
   ]
  },
  {
   "cell_type": "code",
   "execution_count": null,
   "id": "25",
   "metadata": {},
   "outputs": [],
   "source": [
    "checked_cfg = check_conf(user_cfg, pandora2d_machine)"
   ]
  },
  {
   "cell_type": "code",
   "execution_count": null,
   "id": "26",
   "metadata": {},
   "outputs": [],
   "source": [
    "pipeline_cfg = checked_cfg['pipeline']\n",
    "pprint(pipeline_cfg)"
   ]
  },
  {
   "cell_type": "markdown",
   "id": "27",
   "metadata": {},
   "source": [
    "#### Trigger all the steps of the machine at ones"
   ]
  },
  {
   "cell_type": "code",
   "execution_count": null,
   "id": "28",
   "metadata": {},
   "outputs": [],
   "source": [
    "dataset_basic, _ = pandora2d.run_pandora2d(\n",
    "    pandora2d_machine,\n",
    "    checked_cfg\n",
    "    )"
   ]
  },
  {
   "cell_type": "markdown",
   "id": "29",
   "metadata": {},
   "source": [
    "Visualize output disparity map"
   ]
  },
  {
   "cell_type": "code",
   "execution_count": null,
   "id": "30",
   "metadata": {},
   "outputs": [],
   "source": [
    "plot_two_images(dataset_basic[\"row_map\"].data,\n",
    "                dataset_basic[\"col_map\"].data,\n",
    "                \"Row disparity map\",\n",
    "                \"Columns disparity map\",\n",
    "                output_dir,\n",
    "                cmap=pandora_cmap())"
   ]
  },
  {
   "cell_type": "markdown",
   "id": "31",
   "metadata": {},
   "source": [
    "Visualize correlation score "
   ]
  },
  {
   "cell_type": "code",
   "execution_count": null,
   "id": "32",
   "metadata": {},
   "outputs": [],
   "source": [
    "plot_image(dataset_basic[\"correlation_score\"].data, \"Correlation score\", output_dir, cmap=pandora_cmap())"
   ]
  },
  {
   "cell_type": "markdown",
   "id": "33",
   "metadata": {},
   "source": [
    "# Option 2 : Use segment mode for limited memory usage"
   ]
  },
  {
   "cell_type": "markdown",
   "id": "34",
   "metadata": {},
   "source": [
    "The implementation of Pandora2D allows to use a segment mode.\n",
    "\n",
    "This mode requires to provide the available memory and Pandora2D computes automatically the size of a segment.\n",
    "\n",
    "It provides a list of segments (by their ROI) and computes segment per segment, with a free of the memory at each step."
   ]
  },
  {
   "cell_type": "markdown",
   "id": "35",
   "metadata": {},
   "source": [
    "#### Instantiate the machine"
   ]
  },
  {
   "cell_type": "code",
   "execution_count": null,
   "id": "36",
   "metadata": {},
   "outputs": [],
   "source": [
    "del(pandora2d_machine)\n",
    "\n",
    "pandora2d_machine = Pandora2DMachine()"
   ]
  },
  {
   "cell_type": "markdown",
   "id": "37",
   "metadata": {},
   "source": [
    "#### Define pipeline configuration"
   ]
  },
  {
   "cell_type": "code",
   "execution_count": null,
   "id": "38",
   "metadata": {},
   "outputs": [],
   "source": [
    "user_cfg = {\n",
    "    \"input\": {\n",
    "        \"left\": {\n",
    "            \"img\": \"data/left.tif\",\n",
    "            \"nodata\": \"NaN\",\n",
    "        },\n",
    "        \"right\": {\n",
    "            \"img\": \"data/right.tif\",\n",
    "        },\n",
    "        \"col_disparity\": {\"init\": 0, \"range\": 2},\n",
    "        \"row_disparity\": {\"init\": 0, \"range\": 2},\n",
    "    },\n",
    "    \"segment_mode\": {\n",
    "        \"enable\": True,\n",
    "        \"memory_per_work\": 300\n",
    "    },\n",
    "    \"pipeline\":{\n",
    "        \"matching_cost\" : {\n",
    "            \"matching_cost_method\": \"zncc_python\",\n",
    "            \"subpix\": 4,\n",
    "            \"window_size\": 5,\n",
    "        },\n",
    "        \"disparity\": {\n",
    "            \"disparity_method\": \"wta\",\n",
    "            \"invalid_disparity\": -5\n",
    "        },\n",
    "        \"refinement\":{\n",
    "            \"refinement_method\": \"dichotomy\",\n",
    "            \"iterations\": 2,\n",
    "            \"filter\": {\"method\": \"bicubic\"},\n",
    "        }\n",
    "    },\n",
    "    \"output\": {\n",
    "        \"path\": \"outputs/introduction_and_basic_usage_option_2\"\n",
    "    },\n",
    "}"
   ]
  },
  {
   "cell_type": "markdown",
   "id": "39",
   "metadata": {},
   "source": [
    "#### Check the configuration and sequence of steps"
   ]
  },
  {
   "cell_type": "code",
   "execution_count": null,
   "id": "40",
   "metadata": {},
   "outputs": [],
   "source": [
    "checked_cfg = check_conf(user_cfg, pandora2d_machine)"
   ]
  },
  {
   "cell_type": "code",
   "execution_count": null,
   "id": "41",
   "metadata": {},
   "outputs": [],
   "source": [
    "pipeline_cfg = checked_cfg['pipeline']\n",
    "pprint(pipeline_cfg)"
   ]
  },
  {
   "cell_type": "markdown",
   "id": "42",
   "metadata": {},
   "source": [
    "Get list of ROIs for prints only"
   ]
  },
  {
   "cell_type": "code",
   "execution_count": null,
   "id": "43",
   "metadata": {},
   "outputs": [],
   "source": [
    "from pandora2d.memory_estimation import segment_image_by_rows\n",
    "\n",
    "list_of_roi = segment_image_by_rows(\n",
    "        checked_cfg, pandora2d_machine.margins_disp.global_margins, pandora2d_machine.margins_img.global_margins\n",
    "    )"
   ]
  },
  {
   "cell_type": "code",
   "execution_count": null,
   "id": "44",
   "metadata": {},
   "outputs": [],
   "source": [
    "print(\"Number of ROIs:\", len((list_of_roi)))"
   ]
  },
  {
   "cell_type": "markdown",
   "id": "45",
   "metadata": {},
   "source": [
    "#### Run pandora2d with segment mode"
   ]
  },
  {
   "cell_type": "code",
   "execution_count": null,
   "id": "46",
   "metadata": {},
   "outputs": [],
   "source": [
    "dataset_segment, _ = pandora2d.run_pandora2d_segment_mode(\n",
    "    pandora2d_machine,\n",
    "    checked_cfg\n",
    "    )"
   ]
  },
  {
   "cell_type": "code",
   "execution_count": null,
   "id": "47",
   "metadata": {},
   "outputs": [],
   "source": [
    "plot_two_images(dataset_segment[\"row_map\"].data,\n",
    "                dataset_segment[\"col_map\"].data,\n",
    "                \"Row disparity map\",\n",
    "                \"Columns disparity map\",\n",
    "                output_dir,\n",
    "                cmap=pandora_cmap())"
   ]
  },
  {
   "cell_type": "markdown",
   "id": "48",
   "metadata": {},
   "source": [
    "#### Differences with/without segment mode\n",
    "\n",
    "Must return \"0\", as there are no differences between outputs."
   ]
  },
  {
   "cell_type": "code",
   "execution_count": null,
   "id": "49",
   "metadata": {},
   "outputs": [],
   "source": [
    "diff_row = abs(dataset_basic[\"row_map\"].data - dataset_segment[\"row_map\"].data)\n",
    "diff_col = abs(dataset_basic[\"col_map\"].data - dataset_segment[\"col_map\"].data)\n",
    "diff_corr = abs(dataset_basic[\"correlation_score\"].data \\\n",
    "                - dataset_segment[\"correlation_score\"].data)"
   ]
  },
  {
   "cell_type": "code",
   "execution_count": null,
   "id": "50",
   "metadata": {},
   "outputs": [],
   "source": [
    "print(\"Sum of differences for rows:\", diff_row.sum())\n",
    "print(\"Sum of differences for cols:\", diff_col.sum())\n",
    "print(\"Sum of differences for scores:\", np.nansum(diff_corr))"
   ]
  }
 ],
 "metadata": {
  "kernelspec": {
   "display_name": "venv",
   "language": "python",
   "name": "python3"
  },
  "language_info": {
   "codemirror_mode": {
    "name": "ipython",
    "version": 3
   },
   "file_extension": ".py",
   "mimetype": "text/x-python",
   "name": "python",
   "nbconvert_exporter": "python",
   "pygments_lexer": "ipython3",
   "version": "3.10.12"
  }
 },
 "nbformat": 4,
 "nbformat_minor": 5
}
