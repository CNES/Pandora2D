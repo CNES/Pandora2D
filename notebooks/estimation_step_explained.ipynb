{
 "cells": [
  {
   "cell_type": "markdown",
   "id": "db04320a-5fb9-47ca-8dcc-248e00941aa8",
   "metadata": {},
   "source": [
    "<img src=\"img/pandora2d_logo.png\" width=\"500\" height=\"500\">"
   ]
  },
  {
   "cell_type": "markdown",
   "id": "f15f0456-611e-451f-87e6-dcf58e1ef190",
   "metadata": {},
   "source": [
    "# Pandora2D : a coregistration framework"
   ]
  },
  {
   "cell_type": "markdown",
   "id": "15158305-7b79-4263-aeaa-16b39235f7e8",
   "metadata": {},
   "source": [
    "# Introduction and basic usage"
   ]
  },
  {
   "cell_type": "markdown",
   "id": "e8458dd9-7977-4695-bdb5-047c47eec0b0",
   "metadata": {},
   "source": [
    "#### Imports and external functions"
   ]
  },
  {
   "cell_type": "code",
   "execution_count": null,
   "id": "ac793218-8f2b-4559-9ef4-bcb6f917a59b",
   "metadata": {},
   "outputs": [],
   "source": [
    "import io\n",
    "from pathlib import Path\n",
    "from IPython.display import Image, display\n",
    "from pprint import pprint\n",
    "import numpy as np"
   ]
  },
  {
   "cell_type": "code",
   "execution_count": null,
   "id": "dbbf6721-9115-44fb-9525-8e6d81938355",
   "metadata": {},
   "outputs": [],
   "source": [
    "from snippets.utils import *"
   ]
  },
  {
   "cell_type": "markdown",
   "id": "e4e477f5-6a2d-40c6-b747-7cf00791decb",
   "metadata": {},
   "source": [
    "## Pandora2D's pipeline\n",
    "\n",
    "Pandora2D provides the following steps:\n",
    "* estimation computation\n",
    "* matching cost computation\n",
    "* disparity computation (**mandatory if matching_cost**)\n",
    "* subpixel disparity refinement"
   ]
  },
  {
   "cell_type": "markdown",
   "id": "1be05d02-b1dc-43ec-a09a-d65c8285ea44",
   "metadata": {},
   "source": [
    "<img src=\"img/Pandora2D_pipeline.png\" width=\"1000\">"
   ]
  },
  {
   "cell_type": "markdown",
   "id": "fdaacb98-cbac-4647-867c-ef110f17a85c",
   "metadata": {},
   "source": [
    "## About the estimation step :"
   ]
  },
  {
   "cell_type": "markdown",
   "id": "25de08c8-52ab-436f-9bc5-c9b665e672cb",
   "metadata": {},
   "source": [
    "1. used alone, it computes a constant a priori offset across the entire image in line and column. \n",
    "\n",
    "2. When used in a complete pipeline, it enables, **thanks to an interval entered by the user**, the calculation of \"col_disparity\" and \"row_disparity\" parameters in the input configuration dictionnary."
   ]
  },
  {
   "cell_type": "markdown",
   "id": "fa43b579-4d68-4c78-8a07-6c6ee05805e5",
   "metadata": {},
   "source": [
    "The outputs are : \n",
    "- shown in log in verbose mode\n",
    "- saved in the configuration file\n",
    "- stored in dataset image"
   ]
  },
  {
   "cell_type": "markdown",
   "id": "00469662-a597-4976-88df-1cd6b9c30b77",
   "metadata": {},
   "source": [
    "# Pandora2D execution options with state machine"
   ]
  },
  {
   "cell_type": "markdown",
   "id": "548a5fd1-4c3b-4dc7-bba3-83114f84396b",
   "metadata": {},
   "source": [
    "#### Imports of pandora2d"
   ]
  },
  {
   "cell_type": "code",
   "execution_count": null,
   "id": "4fabcfd6-e078-491c-86e9-407ff5eca137",
   "metadata": {},
   "outputs": [],
   "source": [
    "# Load pandora2d imports\n",
    "import pandora2d\n",
    "from pandora2d.state_machine import Pandora2DMachine\n",
    "from pandora2d.check_configuration import check_conf\n",
    "from pandora2d.img_tools import create_datasets_from_inputs"
   ]
  },
  {
   "cell_type": "markdown",
   "id": "21cc33a4-0264-443c-97c8-ad32b80d9c65",
   "metadata": {},
   "source": [
    "#### Load and visualize input data "
   ]
  },
  {
   "cell_type": "markdown",
   "id": "6d44265d-decd-4157-817f-40bd1a3df0a5",
   "metadata": {},
   "source": [
    "Provide image path"
   ]
  },
  {
   "cell_type": "code",
   "execution_count": null,
   "id": "8df92f0f-298e-4f1d-b5a2-f7bbf0622646",
   "metadata": {},
   "outputs": [],
   "source": [
    "# Paths to left and right images\n",
    "img_left_path = \"data/left.tif\"\n",
    "img_right_path = \"data/right.tif\""
   ]
  },
  {
   "cell_type": "markdown",
   "id": "bfb900c7-9356-48be-9a3a-74e1ddb5b27e",
   "metadata": {},
   "source": [
    "#### No need for disparity Range in the estimation process."
   ]
  },
  {
   "cell_type": "code",
   "execution_count": null,
   "id": "22aed1c4-a53a-43bd-bbd3-10eb64b59e63",
   "metadata": {},
   "outputs": [],
   "source": [
    "user_cfg = {\n",
    "    \"input\": {\n",
    "        \"left\": {\n",
    "            \"img\": img_left_path, \n",
    "            \"nodata\": np.nan\n",
    "        },\n",
    "        \"right\": {\n",
    "            \"img\": img_right_path, \n",
    "            \"nodata\": np.nan\n",
    "        },\n",
    "    },\n",
    "    \"pipeline\": { \n",
    "        \"estimation\": {\n",
    "            \"estimation_method\": \"phase_cross_correlation\",\n",
    "            \"range_row\": 5, \n",
    "            \"range_col\": 5,\n",
    "            \"sample_factor\": 100\n",
    "        },\n",
    "    }\n",
    "}"
   ]
  },
  {
   "cell_type": "code",
   "execution_count": null,
   "id": "2931b134-aaee-4086-a6b4-88cec3bc39f3",
   "metadata": {},
   "outputs": [],
   "source": [
    "img_left, img_right = create_datasets_from_inputs(input_config=user_cfg[\"input\"], estimation_cfg=user_cfg[\"pipeline\"].get(\"estimation\"))"
   ]
  },
  {
   "cell_type": "markdown",
   "id": "4def9934-12f8-42cd-a05b-bc845a1a1620",
   "metadata": {},
   "source": [
    "#### Instantiate the machine"
   ]
  },
  {
   "cell_type": "code",
   "execution_count": null,
   "id": "47546952-4125-43b9-aaa1-71fe48cac2d8",
   "metadata": {},
   "outputs": [],
   "source": [
    "pandora2d_machine = Pandora2DMachine()"
   ]
  },
  {
   "cell_type": "markdown",
   "id": "d69483f3-7a28-4530-b286-ec40c64ecfb2",
   "metadata": {},
   "source": [
    "#### Check the configuration and sequence of steps"
   ]
  },
  {
   "cell_type": "code",
   "execution_count": null,
   "id": "c085399b-eb82-4614-8135-3bf4bbcbf583",
   "metadata": {},
   "outputs": [],
   "source": [
    "checked_cfg = check_conf(user_cfg, pandora2d_machine)"
   ]
  },
  {
   "cell_type": "markdown",
   "id": "4cb3efad-3e1c-4c38-b0e1-2405d7431f3f",
   "metadata": {},
   "source": [
    "#### Trigger all the steps of the machine at ones"
   ]
  },
  {
   "cell_type": "code",
   "execution_count": null,
   "id": "efc291e7-03ef-4fa4-9aed-7eee6f12639a",
   "metadata": {},
   "outputs": [],
   "source": [
    "dataset, estimation_results = pandora2d.run(\n",
    "    pandora2d_machine,\n",
    "    img_left,\n",
    "    img_right,\n",
    "    checked_cfg\n",
    "    )"
   ]
  },
  {
   "cell_type": "markdown",
   "id": "c043bc01-12c8-4caf-b65d-1d46bcca90fb",
   "metadata": {},
   "source": [
    "## The results are added to a configuration dictionnary "
   ]
  },
  {
   "cell_type": "markdown",
   "id": "3c4e99b3-5d7d-4bc2-8530-d0a70fd8c6be",
   "metadata": {},
   "source": [
    "##### Disparities ranges are set"
   ]
  },
  {
   "cell_type": "code",
   "execution_count": null,
   "id": "ce0f5e8b-a4c5-4f52-955a-c8bffa49782c",
   "metadata": {},
   "outputs": [],
   "source": [
    "print(\"Disparity range for columns : \", estimation_results[\"input\"][\"col_disparity\"])\n",
    "print(\"Disparity range for rows : \", estimation_results[\"input\"][\"row_disparity\"])"
   ]
  },
  {
   "cell_type": "markdown",
   "id": "a70b11c1-85bd-450d-86fa-11079a3a7355",
   "metadata": {},
   "source": [
    "##### And many informations are stored in estimation dictionnary configuration"
   ]
  },
  {
   "cell_type": "code",
   "execution_count": null,
   "id": "5bef0454-425e-43ff-af66-b3d8cd90b31c",
   "metadata": {},
   "outputs": [],
   "source": [
    "estimation_results[\"pipeline\"][\"estimation\"]"
   ]
  }
 ],
 "metadata": {
  "kernelspec": {
   "display_name": "pandora2D-dev",
   "language": "python",
   "name": "pandora2d-dev"
  },
  "language_info": {
   "codemirror_mode": {
    "name": "ipython",
    "version": 3
   },
   "file_extension": ".py",
   "mimetype": "text/x-python",
   "name": "python",
   "nbconvert_exporter": "python",
   "pygments_lexer": "ipython3",
   "version": "3.10.12"
  }
 },
 "nbformat": 4,
 "nbformat_minor": 5
}
