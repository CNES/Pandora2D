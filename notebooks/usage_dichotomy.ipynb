{
 "cells": [
  {
   "cell_type": "markdown",
   "id": "0df35f6b-af85-4f3f-85e0-1a98db89addd",
   "metadata": {},
   "source": [
    "<img src=\"img/pandora2d_logo.png\" width=\"500\" height=\"500\">"
   ]
  },
  {
   "cell_type": "markdown",
   "id": "497ca01c-8e3a-4afb-b241-1e13187985db",
   "metadata": {},
   "source": [
    "# Pandora2D : a coregistration framework"
   ]
  },
  {
   "cell_type": "markdown",
   "id": "6a9c8638-a464-48ba-b897-3f1ae9ac71d9",
   "metadata": {},
   "source": [
    "# Usage of step and ROI (Region of Interest) parameters in the configuration file"
   ]
  },
  {
   "cell_type": "markdown",
   "id": "923e2107-5b8d-4876-bf94-3af1cd42375c",
   "metadata": {},
   "source": [
    "#### Imports and external functions"
   ]
  },
  {
   "cell_type": "code",
   "execution_count": null,
   "id": "3de893ac-1b5b-4637-9329-375d6b2472b3",
   "metadata": {},
   "outputs": [],
   "source": [
    "import io\n",
    "import numpy as np\n",
    "from pprint import pprint\n",
    "from pathlib import Path\n",
    "from IPython.display import Image, display\n",
    "from copy import deepcopy"
   ]
  },
  {
   "cell_type": "code",
   "execution_count": null,
   "id": "abfdcda2-d42c-4007-8a40-204a22a05ceb",
   "metadata": {},
   "outputs": [],
   "source": [
    "def plot_state_machine(pandora2d_machine):\n",
    "    \"\"\"\n",
    "    Show the schemes of step of Pandora2D Machine\n",
    "    \"\"\"\n",
    "    stream = io.BytesIO()\n",
    "    try:\n",
    "        pandora2d_machine.get_graph().draw(stream, prog=\"dot\", format=\"png\")\n",
    "        display(Image(stream.getvalue()))\n",
    "    except:\n",
    "        print(\n",
    "            \"It is not possible to show the graphic of the state machine. To solve it, please install graphviz on your system (apt-get install graphviz if operating in Linux) and install python package with pip insall graphviz\"\n",
    "        )"
   ]
  },
  {
   "cell_type": "code",
   "execution_count": null,
   "id": "c6cb630f-15b2-4237-9bd2-0fa74f6490a0",
   "metadata": {},
   "outputs": [],
   "source": [
    "from snippets.utils import *"
   ]
  },
  {
   "cell_type": "markdown",
   "id": "f5b88d48-fdf1-4ca4-a78f-a47ce5831fb2",
   "metadata": {},
   "source": [
    "# Pandora2D execution options with state machine"
   ]
  },
  {
   "cell_type": "markdown",
   "id": "08d1d2d5-1b3d-4cfa-81cf-03f186086a1b",
   "metadata": {},
   "source": [
    "#### Imports of pandora2d"
   ]
  },
  {
   "cell_type": "code",
   "execution_count": null,
   "id": "df1514c6-d5d5-440f-9f9d-f4bfb43a372e",
   "metadata": {},
   "outputs": [],
   "source": [
    "# Load pandora2d imports\n",
    "from pandora2d import run\n",
    "from pandora2d.state_machine import Pandora2DMachine\n",
    "from pandora2d.check_configuration import check_conf\n",
    "from pandora2d.img_tools import create_datasets_from_inputs"
   ]
  },
  {
   "cell_type": "markdown",
   "id": "bc3ba980-bdcc-41ba-afe5-c88af42c8be6",
   "metadata": {},
   "source": [
    "#### Load and visualize input data "
   ]
  },
  {
   "cell_type": "markdown",
   "id": "c4fc2c4e-cf4d-4857-9386-484d1a534c9f",
   "metadata": {},
   "source": [
    "Provide image path"
   ]
  },
  {
   "cell_type": "code",
   "execution_count": null,
   "id": "3aeede83-86ab-4236-999e-58a4978b452d",
   "metadata": {},
   "outputs": [],
   "source": [
    "# Paths to left and right images\n",
    "img_left_path = \"data/left.tif\"\n",
    "img_right_path = \"data/right.tif\""
   ]
  },
  {
   "cell_type": "markdown",
   "id": "7c97e607-4d39-49ea-bea2-70b6c97574db",
   "metadata": {},
   "source": [
    "Provide output directory to write results"
   ]
  },
  {
   "cell_type": "code",
   "execution_count": null,
   "id": "86242921-7443-4370-a050-f1d486f3ef57",
   "metadata": {},
   "outputs": [],
   "source": [
    "output_dir = Path.cwd() / \"output\"\n",
    "# If necessary, create output dir\n",
    "output_dir.mkdir(exist_ok=True, parents=True)"
   ]
  },
  {
   "cell_type": "markdown",
   "id": "96605ac2-36ff-40a5-8b47-9e489a30d9e2",
   "metadata": {},
   "source": [
    "Convert input data to dataset"
   ]
  },
  {
   "cell_type": "code",
   "execution_count": null,
   "id": "bf6b2360-9477-4295-a49a-c3272995b9fd",
   "metadata": {},
   "outputs": [],
   "source": [
    "input_config = {\n",
    "    \"left\": {\n",
    "        \"img\": img_left_path,\n",
    "        \"nodata\": np.nan,\n",
    "    },\n",
    "    \"right\": {\n",
    "        \"img\": img_right_path,\n",
    "        \"nodata\": np.nan,\n",
    "    },\n",
    "    \"col_disparity\": [-3, 3],\n",
    "    \"row_disparity\": [-3, 3],\n",
    "}"
   ]
  },
  {
   "cell_type": "markdown",
   "id": "63820d3e-f493-4c41-a7ca-fb6d37e4ef69",
   "metadata": {},
   "source": [
    "create datasets"
   ]
  },
  {
   "cell_type": "code",
   "execution_count": null,
   "id": "83dce3f4-88a5-49f5-90f2-dae03b71319e",
   "metadata": {},
   "outputs": [],
   "source": [
    "image_datasets = create_datasets_from_inputs(input_config=input_config)"
   ]
  },
  {
   "cell_type": "markdown",
   "id": "b46ad540-b4bc-45ed-bd55-18e6d378a34a",
   "metadata": {},
   "source": [
    "Visualize input data"
   ]
  },
  {
   "cell_type": "code",
   "execution_count": null,
   "id": "cbef0f0c-e477-4d04-a456-1f09b9a494c6",
   "metadata": {},
   "outputs": [],
   "source": [
    "fig = plt.figure(figsize=(10, 10))\n",
    "ax0 = fig.add_subplot(1, 2, 1)\n",
    "ax0.imshow(image_datasets.left[\"im\"].data)\n",
    "plt.title(\"Left image\")\n",
    "ax1 = fig.add_subplot(1, 2, 2)\n",
    "ax1.imshow(image_datasets.right[\"im\"].data)\n",
    "plt.title(\"Right image\")"
   ]
  },
  {
   "cell_type": "markdown",
   "id": "1d5d5e87-9d0c-4fd8-b963-78d4a6f33ca9",
   "metadata": {},
   "source": [
    "#### Instantiate the machine"
   ]
  },
  {
   "cell_type": "code",
   "execution_count": null,
   "id": "a23e39f0-4419-4e87-8598-40d7967d9a4b",
   "metadata": {},
   "outputs": [],
   "source": [
    "pandora2d_machine = Pandora2DMachine()"
   ]
  },
  {
   "cell_type": "markdown",
   "id": "57cf45cb-0797-4b0a-9097-08e2a4beb950",
   "metadata": {},
   "source": [
    "#### Define pipeline configurations"
   ]
  },
  {
   "cell_type": "markdown",
   "id": "6cd4377b-44e9-415b-9ada-6389dace3480",
   "metadata": {},
   "source": [
    "Let’s define two configurations: one without refinement, the other with refinement."
   ]
  },
  {
   "cell_type": "code",
   "execution_count": null,
   "id": "e85ecdd4-ed19-49dc-bdc5-0cb62f6a9d19",
   "metadata": {},
   "outputs": [],
   "source": [
    "user_cfg = {\n",
    "    \"input\": input_config,\n",
    "    \"pipeline\": {\n",
    "        \"matching_cost\": {\n",
    "            \"matching_cost_method\": \"zncc\",\n",
    "            \"window_size\": 7,\n",
    "        },\n",
    "        \"disparity\": {\n",
    "            \"disparity_method\": \"wta\",\n",
    "            \"invalid_disparity\": -9999,\n",
    "        },\n",
    "    },\n",
    "}"
   ]
  },
  {
   "cell_type": "code",
   "execution_count": null,
   "id": "3178abba-07d9-4283-bf59-f92060e885d5",
   "metadata": {},
   "outputs": [],
   "source": [
    "user_cfg_with_refinement = deepcopy(user_cfg)\n",
    "user_cfg_with_refinement[\"pipeline\"][\"refinement\"] = {\n",
    "    \"refinement_method\": \"dichotomy\",\n",
    "    \"iterations\": 1,\n",
    "    \"filter\": \"bicubic\",\n",
    "}"
   ]
  },
  {
   "cell_type": "code",
   "execution_count": null,
   "id": "ba94ac4b-0ce4-44b2-9031-8d770f09ef21",
   "metadata": {},
   "outputs": [],
   "source": [
    "user_cfg_with_two_refinements = deepcopy(user_cfg)\n",
    "user_cfg_with_two_refinements[\"pipeline\"][\"refinement\"] = {\n",
    "    \"refinement_method\": \"dichotomy\",\n",
    "    \"iterations\": 2,\n",
    "    \"filter\": \"bicubic\",\n",
    "}"
   ]
  },
  {
   "cell_type": "markdown",
   "id": "cc9ab648-3d35-4b7f-b43b-05f98c484e57",
   "metadata": {},
   "source": [
    "#### Check the user configurations"
   ]
  },
  {
   "cell_type": "code",
   "execution_count": null,
   "id": "c8990415-3e46-4bdf-a103-58674a70efda",
   "metadata": {},
   "outputs": [],
   "source": [
    "cfg = check_conf(user_cfg, pandora2d_machine)\n",
    "pprint(cfg)"
   ]
  },
  {
   "cell_type": "code",
   "execution_count": null,
   "id": "d764881b-5e65-49e0-b181-4ee737b19fb6",
   "metadata": {},
   "outputs": [],
   "source": [
    "cfg_with_refinement = check_conf(user_cfg_with_refinement, pandora2d_machine)\n",
    "pprint(cfg_with_refinement)"
   ]
  },
  {
   "cell_type": "code",
   "execution_count": null,
   "id": "4c9b3699-893b-47a7-bde3-fd8c62eaca2a",
   "metadata": {},
   "outputs": [],
   "source": [
    "cfg_with_two_refinements = check_conf(user_cfg_with_two_refinements, pandora2d_machine)\n",
    "pprint(cfg_with_two_refinements)"
   ]
  },
  {
   "cell_type": "markdown",
   "id": "e27c2ff3-1e40-4c68-b456-caa725722b44",
   "metadata": {},
   "source": [
    "#### Execute the pipelines"
   ]
  },
  {
   "cell_type": "code",
   "execution_count": null,
   "id": "750f99bf-0806-481a-8f08-d7a423cb4334",
   "metadata": {},
   "outputs": [],
   "source": [
    "%%time\n",
    "dataset, _ = run(pandora2d_machine, image_datasets.left, image_datasets.right, cfg)"
   ]
  },
  {
   "cell_type": "code",
   "execution_count": null,
   "id": "656892e1-faab-4f0b-879e-fb14f92bc4ea",
   "metadata": {},
   "outputs": [],
   "source": [
    "%%time\n",
    "dataset_with_refinement, _ = run(pandora2d_machine, image_datasets.left, image_datasets.right, cfg_with_refinement)"
   ]
  },
  {
   "cell_type": "code",
   "execution_count": null,
   "id": "ab59c2fe-0684-4453-b9c7-52b45016885c",
   "metadata": {},
   "outputs": [],
   "source": [
    "%%time\n",
    "dataset_with_two_refinements, _ = run(\n",
    "    pandora2d_machine, image_datasets.left, image_datasets.right, cfg_with_two_refinements\n",
    ")"
   ]
  },
  {
   "cell_type": "markdown",
   "id": "3ec1547c-48e2-466a-8039-5f0a558155c4",
   "metadata": {},
   "source": [
    "# Visualize results"
   ]
  },
  {
   "cell_type": "markdown",
   "id": "684a4bc6-2f18-47fc-84b0-f5a31fcb5722",
   "metadata": {},
   "source": [
    "## Define ploting function"
   ]
  },
  {
   "cell_type": "markdown",
   "id": "8fddeca0-ab1c-45c4-b816-11644abed55d",
   "metadata": {},
   "source": [
    "We will plot a figure with two maps: on left the disparity map of row and or right the disparity map of columns.\n",
    "Disparities' colors will range from blue to red, disparities under minimum disparity will be green and disparies above maximum disparity will be yellow."
   ]
  },
  {
   "cell_type": "code",
   "execution_count": null,
   "id": "74135d87-d8ea-4131-9a4d-1695cc05ab5b",
   "metadata": {},
   "outputs": [],
   "source": [
    "from matplotlib import colors\n",
    "\n",
    "plt.rcParams[\"figure.figsize\"] = (20, 8)\n",
    "\n",
    "\n",
    "def plot_result(\n",
    "    dataset,\n",
    "    dmin=min(input_config[\"row_disparity\"][0], input_config[\"col_disparity\"][0]),\n",
    "    dmax=max(input_config[\"row_disparity\"][1], input_config[\"col_disparity\"][1]),\n",
    "    palette=plt.cm.bwr.with_extremes(over=\"y\", under=\"g\", bad=\"k\"),\n",
    "    title=\"Without refinement.\",\n",
    "    colorbarlabel=\"Disparity\",\n",
    "):\n",
    "    norm = colors.Normalize(vmin=dmin, vmax=dmax)\n",
    "    fig, axs = plt.subplots(1, 2)\n",
    "    fig.suptitle(title, fontsize=20)\n",
    "    ax1, ax2 = axs\n",
    "    ax1.set_title(\"Row disparity map\")\n",
    "    im1 = ax1.imshow(dataset[\"row_map\"].data, cmap=palette, norm=norm)\n",
    "    ax2.set_title(\"Columns disparity map\")\n",
    "    im2 = ax2.imshow(dataset[\"col_map\"].data, cmap=palette, norm=norm)\n",
    "    fig.colorbar(im1, ax=axs, orientation=\"horizontal\", extend=\"both\", shrink=0.75, aspect=50, label=colorbarlabel)"
   ]
  },
  {
   "cell_type": "markdown",
   "id": "4c40ab67-1ad9-4319-a57a-c8dac78bc963",
   "metadata": {},
   "source": [
    "## Visualize resulting disparity maps"
   ]
  },
  {
   "cell_type": "code",
   "execution_count": null,
   "id": "65ff2e62-d764-42d2-86c9-db48b9d7a4b2",
   "metadata": {},
   "outputs": [],
   "source": [
    "plot_result(dataset)"
   ]
  },
  {
   "cell_type": "code",
   "execution_count": null,
   "id": "17c6e0be-c44a-469d-9278-6dd63ad6fffc",
   "metadata": {},
   "outputs": [],
   "source": [
    "plot_result(dataset_with_refinement, title=\"With one iteration refinement.\")"
   ]
  },
  {
   "cell_type": "code",
   "execution_count": null,
   "id": "6bad8be4-f50a-4c57-8da6-4808e5a5acdc",
   "metadata": {},
   "outputs": [],
   "source": [
    "plot_result(dataset_with_two_refinements, title=\"With two iterations refinement.\")"
   ]
  },
  {
   "cell_type": "markdown",
   "id": "d72e5e17-2123-4139-863a-03f2aa6d47e0",
   "metadata": {},
   "source": [
    "## Difference between refined and not refined"
   ]
  },
  {
   "cell_type": "markdown",
   "id": "8ec14758-853a-4288-90a5-0f75d38fea2c",
   "metadata": {},
   "source": [
    "Let’s see the subpixellic delta."
   ]
  },
  {
   "cell_type": "code",
   "execution_count": null,
   "id": "bedc8349-bae4-4e2e-ba91-bd94f7d7e5a1",
   "metadata": {},
   "outputs": [],
   "source": [
    "plot_result(\n",
    "    dataset - dataset_with_refinement,\n",
    "    -1,\n",
    "    1,\n",
    "    plt.cm.Set1.with_extremes(over=\"y\", under=\"g\", bad=\"k\"),\n",
    "    title=\"Difference between refined with one iteration and not refined.\",\n",
    "    colorbarlabel=\"Disparity difference\",\n",
    ")"
   ]
  },
  {
   "cell_type": "code",
   "execution_count": null,
   "id": "5c52c34d-89f7-4e2b-bfc2-62fbc97e177b",
   "metadata": {},
   "outputs": [],
   "source": [
    "plot_result(\n",
    "    dataset - dataset_with_two_refinements,\n",
    "    -1,\n",
    "    1,\n",
    "    plt.cm.Set1.with_extremes(over=\"y\", under=\"g\", bad=\"k\"),\n",
    "    title=\"Difference between refined with two iterations and not refined.\",\n",
    "    colorbarlabel=\"Disparity difference\",\n",
    ")"
   ]
  },
  {
   "cell_type": "code",
   "execution_count": null,
   "id": "7b15c9c8-f9d4-4208-89e7-e7b844edb410",
   "metadata": {},
   "outputs": [],
   "source": []
  }
 ],
 "metadata": {
  "kernelspec": {
   "display_name": "Python 3 (ipykernel)",
   "language": "python",
   "name": "python3"
  },
  "language_info": {
   "codemirror_mode": {
    "name": "ipython",
    "version": 3
   },
   "file_extension": ".py",
   "mimetype": "text/x-python",
   "name": "python",
   "nbconvert_exporter": "python",
   "pygments_lexer": "ipython3",
   "version": "3.10.12"
  }
 },
 "nbformat": 4,
 "nbformat_minor": 5
}
