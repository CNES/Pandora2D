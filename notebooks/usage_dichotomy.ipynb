{
 "cells": [
  {
   "cell_type": "markdown",
   "id": "0df35f6b-af85-4f3f-85e0-1a98db89addd",
   "metadata": {},
   "source": [
    "<img src=\"img/pandora2d_logo.png\" width=\"500\" height=\"500\">"
   ]
  },
  {
   "cell_type": "markdown",
   "id": "497ca01c-8e3a-4afb-b241-1e13187985db",
   "metadata": {},
   "source": [
    "# Pandora2D : a coregistration framework"
   ]
  },
  {
   "cell_type": "markdown",
   "id": "6a9c8638-a464-48ba-b897-3f1ae9ac71d9",
   "metadata": {},
   "source": [
    "# Usage of step and ROI (Region of Interest) parameters in the configuration file"
   ]
  },
  {
   "cell_type": "markdown",
   "id": "923e2107-5b8d-4876-bf94-3af1cd42375c",
   "metadata": {},
   "source": [
    "#### Imports and external functions"
   ]
  },
  {
   "cell_type": "code",
   "execution_count": null,
   "id": "3de893ac-1b5b-4637-9329-375d6b2472b3",
   "metadata": {},
   "outputs": [],
   "source": [
    "import io\n",
    "from pprint import pprint\n",
    "from pathlib import Path\n",
    "from IPython.display import Image, display\n",
    "import numpy as np"
   ]
  },
  {
   "cell_type": "code",
   "execution_count": null,
   "id": "abfdcda2-d42c-4007-8a40-204a22a05ceb",
   "metadata": {},
   "outputs": [],
   "source": [
    "def plot_state_machine(pandora2d_machine):\n",
    "    \"\"\"\n",
    "    Show the schemes of step of Pandora2D Machine\n",
    "    \"\"\"\n",
    "    stream = io.BytesIO()\n",
    "    try:\n",
    "        pandora2d_machine.get_graph().draw(stream, prog='dot', format='png')\n",
    "        display(Image(stream.getvalue()))\n",
    "    except:\n",
    "        print(\"It is not possible to show the graphic of the state machine. To solve it, please install graphviz on your system (apt-get install graphviz if operating in Linux) and install python package with pip insall graphviz\")"
   ]
  },
  {
   "cell_type": "code",
   "execution_count": null,
   "id": "c6cb630f-15b2-4237-9bd2-0fa74f6490a0",
   "metadata": {},
   "outputs": [],
   "source": [
    "from snippets.utils import *"
   ]
  },
  {
   "cell_type": "markdown",
   "id": "f5b88d48-fdf1-4ca4-a78f-a47ce5831fb2",
   "metadata": {},
   "source": [
    "# Pandora2D execution options with state machine"
   ]
  },
  {
   "cell_type": "markdown",
   "id": "08d1d2d5-1b3d-4cfa-81cf-03f186086a1b",
   "metadata": {},
   "source": [
    "#### Imports of pandora2d"
   ]
  },
  {
   "cell_type": "code",
   "execution_count": null,
   "id": "df1514c6-d5d5-440f-9f9d-f4bfb43a372e",
   "metadata": {},
   "outputs": [],
   "source": [
    "# Load pandora2d imports\n",
    "from pandora2d import run \n",
    "from pandora2d.state_machine import Pandora2DMachine\n",
    "from pandora2d.check_configuration import check_conf\n",
    "from pandora2d.img_tools import get_roi_processing, create_datasets_from_inputs"
   ]
  },
  {
   "cell_type": "markdown",
   "id": "bc3ba980-bdcc-41ba-afe5-c88af42c8be6",
   "metadata": {},
   "source": [
    "#### Load and visualize input data "
   ]
  },
  {
   "cell_type": "markdown",
   "id": "c4fc2c4e-cf4d-4857-9386-484d1a534c9f",
   "metadata": {},
   "source": [
    "Provide image path"
   ]
  },
  {
   "cell_type": "code",
   "execution_count": null,
   "id": "3aeede83-86ab-4236-999e-58a4978b452d",
   "metadata": {},
   "outputs": [],
   "source": [
    "# Paths to left and right images\n",
    "img_left_path = \"data/left.tif\"\n",
    "img_right_path = \"data/right.tif\""
   ]
  },
  {
   "cell_type": "markdown",
   "id": "7c97e607-4d39-49ea-bea2-70b6c97574db",
   "metadata": {},
   "source": [
    "Provide output directory to write results"
   ]
  },
  {
   "cell_type": "code",
   "execution_count": null,
   "id": "86242921-7443-4370-a050-f1d486f3ef57",
   "metadata": {},
   "outputs": [],
   "source": [
    "output_dir = Path.cwd() / \"output\"\n",
    "# If necessary, create output dir\n",
    "output_dir.mkdir(exist_ok=True,parents=True)"
   ]
  },
  {
   "cell_type": "markdown",
   "id": "96605ac2-36ff-40a5-8b47-9e489a30d9e2",
   "metadata": {},
   "source": [
    "Convert input data to dataset"
   ]
  },
  {
   "cell_type": "code",
   "execution_count": null,
   "id": "bf6b2360-9477-4295-a49a-c3272995b9fd",
   "metadata": {},
   "outputs": [],
   "source": [
    "input_config = {\n",
    "    \"left\": {\"img\": img_left_path, \"nodata\": np.nan},\n",
    "    \"right\": {\"img\": img_right_path, \"nodata\": np.nan},\n",
    "    \"col_disparity\": [-2, 2],\n",
    "    \"row_disparity\": [-2, 2],\n",
    "}"
   ]
  },
  {
   "cell_type": "code",
   "execution_count": null,
   "id": "83dce3f4-88a5-49f5-90f2-dae03b71319e",
   "metadata": {},
   "outputs": [],
   "source": [
    "img_left, img_right = create_datasets_from_inputs(input_config=input_config)"
   ]
  },
  {
   "cell_type": "markdown",
   "id": "b46ad540-b4bc-45ed-bd55-18e6d378a34a",
   "metadata": {},
   "source": [
    "Visualize input data"
   ]
  },
  {
   "cell_type": "code",
   "execution_count": null,
   "id": "cbef0f0c-e477-4d04-a456-1f09b9a494c6",
   "metadata": {},
   "outputs": [],
   "source": [
    "fig = plt.figure(figsize=(10,10))\n",
    "ax0 = fig.add_subplot(1,2,1)\n",
    "ax0.imshow(img_left[\"im\"].data)\n",
    "plt.title(\"Left image\")\n",
    "ax1 = fig.add_subplot(1,2,2)\n",
    "ax1.imshow(img_right[\"im\"].data)\n",
    "plt.title(\"Right image\")"
   ]
  },
  {
   "cell_type": "markdown",
   "id": "1d5d5e87-9d0c-4fd8-b963-78d4a6f33ca9",
   "metadata": {},
   "source": [
    "#### Instantiate the machine"
   ]
  },
  {
   "cell_type": "code",
   "execution_count": null,
   "id": "a23e39f0-4419-4e87-8598-40d7967d9a4b",
   "metadata": {},
   "outputs": [],
   "source": [
    "pandora2d_machine = Pandora2DMachine()"
   ]
  },
  {
   "cell_type": "markdown",
   "id": "57cf45cb-0797-4b0a-9097-08e2a4beb950",
   "metadata": {},
   "source": [
    "#### Define pipeline configuration"
   ]
  },
  {
   "cell_type": "code",
   "execution_count": null,
   "id": "e85ecdd4-ed19-49dc-bdc5-0cb62f6a9d19",
   "metadata": {},
   "outputs": [],
   "source": [
    "user_cfg = {\n",
    "    \"input\": {\n",
    "        \"left\": {\n",
    "            \"img\": img_left_path,\n",
    "            \"nodata\": \"NaN\",\n",
    "        },\n",
    "        \"right\": {\n",
    "            \"img\": img_right_path,\n",
    "            \"nodata\": \"NaN\",\n",
    "        },\n",
    "        \"col_disparity\": [-3, 3],\n",
    "        \"row_disparity\": [-3, 3],\n",
    "    },\n",
    "    \"pipeline\":{\n",
    "        \"matching_cost\" : {\n",
    "            \"matching_cost_method\": \"zncc\",\n",
    "            \"window_size\": 7,\n",
    "        },\n",
    "        \"disparity\": {\n",
    "            \"disparity_method\": \"wta\",\n",
    "            \"invalid_disparity\": -9999\n",
    "        },\n",
    "        \"refinement\" : {\n",
    "            \"refinement_method\" : \"dichotomy\",\n",
    "            \"iterations\": 2,\n",
    "            \"filter\": \"sinc\",\n",
    "        }\n",
    "    }\n",
    "}"
   ]
  },
  {
   "cell_type": "markdown",
   "id": "cc9ab648-3d35-4b7f-b43b-05f98c484e57",
   "metadata": {},
   "source": [
    "#### Check the user configuration"
   ]
  },
  {
   "cell_type": "code",
   "execution_count": null,
   "id": "c8990415-3e46-4bdf-a103-58674a70efda",
   "metadata": {},
   "outputs": [],
   "source": [
    "cfg = check_conf(user_cfg, pandora2d_machine)\n",
    "pprint(cfg)"
   ]
  }
 ],
 "metadata": {
  "kernelspec": {
   "display_name": "Python 3 (ipykernel)",
   "language": "python",
   "name": "python3"
  },
  "language_info": {
   "codemirror_mode": {
    "name": "ipython",
    "version": 3
   },
   "file_extension": ".py",
   "mimetype": "text/x-python",
   "name": "python",
   "nbconvert_exporter": "python",
   "pygments_lexer": "ipython3",
   "version": "3.11.5"
  }
 },
 "nbformat": 4,
 "nbformat_minor": 5
}
