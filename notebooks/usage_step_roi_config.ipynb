{
 "cells": [
  {
   "cell_type": "markdown",
   "id": "0df35f6b-af85-4f3f-85e0-1a98db89addd",
   "metadata": {},
   "source": [
    "<img src=\"img/pandora2d_logo.png\" width=\"500\" height=\"500\">"
   ]
  },
  {
   "cell_type": "markdown",
   "id": "497ca01c-8e3a-4afb-b241-1e13187985db",
   "metadata": {},
   "source": [
    "# Pandora2D : a coregistration framework"
   ]
  },
  {
   "cell_type": "markdown",
   "id": "6a9c8638-a464-48ba-b897-3f1ae9ac71d9",
   "metadata": {},
   "source": [
    "# Usage of step and ROI (Region of Interest) parameters in the configuration file"
   ]
  },
  {
   "cell_type": "markdown",
   "id": "923e2107-5b8d-4876-bf94-3af1cd42375c",
   "metadata": {},
   "source": [
    "#### Imports and external functions"
   ]
  },
  {
   "cell_type": "code",
   "execution_count": null,
   "id": "3de893ac-1b5b-4637-9329-375d6b2472b3",
   "metadata": {},
   "outputs": [],
   "source": [
    "import io\n",
    "from pprint import pprint\n",
    "from pathlib import Path\n",
    "from IPython.display import Image, display\n",
    "import numpy as np"
   ]
  },
  {
   "cell_type": "code",
   "execution_count": null,
   "id": "abfdcda2-d42c-4007-8a40-204a22a05ceb",
   "metadata": {},
   "outputs": [],
   "source": [
    "def plot_state_machine(pandora2d_machine):\n",
    "    \"\"\"\n",
    "    Show the schemes of step of Pandora2D Machine\n",
    "    \"\"\"\n",
    "    stream = io.BytesIO()\n",
    "    try:\n",
    "        pandora2d_machine.get_graph().draw(stream, prog='dot', format='png')\n",
    "        display(Image(stream.getvalue()))\n",
    "    except:\n",
    "        print(\"It is not possible to show the graphic of the state machine. To solve it, please install graphviz on your system (apt-get install graphviz if operating in Linux) and install python package with pip insall graphviz\")"
   ]
  },
  {
   "cell_type": "code",
   "execution_count": null,
   "id": "c6cb630f-15b2-4237-9bd2-0fa74f6490a0",
   "metadata": {},
   "outputs": [],
   "source": [
    "from snippets.utils import *"
   ]
  },
  {
   "cell_type": "markdown",
   "id": "f5b88d48-fdf1-4ca4-a78f-a47ce5831fb2",
   "metadata": {},
   "source": [
    "# Pandora2D execution options with state machine"
   ]
  },
  {
   "cell_type": "markdown",
   "id": "08d1d2d5-1b3d-4cfa-81cf-03f186086a1b",
   "metadata": {},
   "source": [
    "#### Imports of pandora2d"
   ]
  },
  {
   "cell_type": "code",
   "execution_count": null,
   "id": "df1514c6-d5d5-440f-9f9d-f4bfb43a372e",
   "metadata": {},
   "outputs": [],
   "source": [
    "# Load pandora2d imports\n",
    "from pandora2d import run \n",
    "from pandora2d.state_machine import Pandora2DMachine\n",
    "from pandora2d.check_configuration import check_conf\n",
    "from pandora2d.img_tools import get_roi_processing, create_datasets_from_inputs"
   ]
  },
  {
   "cell_type": "markdown",
   "id": "bc3ba980-bdcc-41ba-afe5-c88af42c8be6",
   "metadata": {},
   "source": [
    "#### Load and visualize input data "
   ]
  },
  {
   "cell_type": "markdown",
   "id": "c4fc2c4e-cf4d-4857-9386-484d1a534c9f",
   "metadata": {},
   "source": [
    "Provide image path"
   ]
  },
  {
   "cell_type": "code",
   "execution_count": null,
   "id": "3aeede83-86ab-4236-999e-58a4978b452d",
   "metadata": {},
   "outputs": [],
   "source": [
    "# Paths to left and right images\n",
    "img_left_path = \"data/left.tif\"\n",
    "img_right_path = \"data/right.tif\""
   ]
  },
  {
   "cell_type": "markdown",
   "id": "7c97e607-4d39-49ea-bea2-70b6c97574db",
   "metadata": {},
   "source": [
    "Provide output directory to write results"
   ]
  },
  {
   "cell_type": "code",
   "execution_count": null,
   "id": "86242921-7443-4370-a050-f1d486f3ef57",
   "metadata": {},
   "outputs": [],
   "source": [
    "output_dir = os.path.join(os.getcwd(),\"output\")\n",
    "# If necessary, create output dir\n",
    "Path(output_dir).mkdir(exist_ok=True,parents=True)"
   ]
  },
  {
   "cell_type": "markdown",
   "id": "96605ac2-36ff-40a5-8b47-9e489a30d9e2",
   "metadata": {},
   "source": [
    "Convert input data to dataset"
   ]
  },
  {
   "cell_type": "code",
   "execution_count": null,
   "id": "bf6b2360-9477-4295-a49a-c3272995b9fd",
   "metadata": {},
   "outputs": [],
   "source": [
    "input_config = {\n",
    "    \"left\": {\"img\": img_left_path, \"nodata\": np.nan},\n",
    "    \"right\": {\"img\": img_right_path, \"nodata\": np.nan},\n",
    "    \"col_disparity\": [-2, 2],\n",
    "    \"row_disparity\": [-2, 2],\n",
    "}"
   ]
  },
  {
   "cell_type": "code",
   "execution_count": null,
   "id": "83dce3f4-88a5-49f5-90f2-dae03b71319e",
   "metadata": {},
   "outputs": [],
   "source": [
    "img_left, img_right = create_datasets_from_inputs(input_config=input_config)"
   ]
  },
  {
   "cell_type": "markdown",
   "id": "b46ad540-b4bc-45ed-bd55-18e6d378a34a",
   "metadata": {},
   "source": [
    "Visualize input data"
   ]
  },
  {
   "cell_type": "code",
   "execution_count": null,
   "id": "cbef0f0c-e477-4d04-a456-1f09b9a494c6",
   "metadata": {},
   "outputs": [],
   "source": [
    "fig = plt.figure(figsize=(10,10))\n",
    "ax0 = fig.add_subplot(1,2,1)\n",
    "ax0.imshow(img_left[\"im\"].data)\n",
    "plt.title(\"Left image\")\n",
    "ax1 = fig.add_subplot(1,2,2)\n",
    "ax1.imshow(img_right[\"im\"].data)\n",
    "plt.title(\"Right image\")"
   ]
  },
  {
   "cell_type": "markdown",
   "id": "fe0ca929-a6b0-42b5-aa6f-872d53ec4ba1",
   "metadata": {},
   "source": [
    "# Option 1 : Classic configuration file "
   ]
  },
  {
   "cell_type": "markdown",
   "id": "1d5d5e87-9d0c-4fd8-b963-78d4a6f33ca9",
   "metadata": {},
   "source": [
    "#### Instantiate the machine"
   ]
  },
  {
   "cell_type": "code",
   "execution_count": null,
   "id": "a23e39f0-4419-4e87-8598-40d7967d9a4b",
   "metadata": {},
   "outputs": [],
   "source": [
    "pandora2d_machine = Pandora2DMachine()"
   ]
  },
  {
   "cell_type": "markdown",
   "id": "57cf45cb-0797-4b0a-9097-08e2a4beb950",
   "metadata": {},
   "source": [
    "#### Define pipeline configuration"
   ]
  },
  {
   "cell_type": "code",
   "execution_count": null,
   "id": "e85ecdd4-ed19-49dc-bdc5-0cb62f6a9d19",
   "metadata": {},
   "outputs": [],
   "source": [
    "user_cfg = {\n",
    "    \"input\": {\n",
    "        \"left\": {\n",
    "            \"img\": img_left_path,\n",
    "            \"nodata\": \"NaN\",\n",
    "        },\n",
    "        \"right\": {\n",
    "            \"img\": img_right_path,\n",
    "            \"nodata\": \"NaN\",\n",
    "        },\n",
    "        \"col_disparity\": [-3, 3],\n",
    "        \"row_disparity\": [-3, 3],\n",
    "    },\n",
    "    \"pipeline\":{\n",
    "        \"matching_cost\" : {\n",
    "            \"matching_cost_method\": \"zncc\",\n",
    "            \"window_size\": 7,\n",
    "        },\n",
    "        \"disparity\": {\n",
    "            \"disparity_method\": \"wta\",\n",
    "            \"invalid_disparity\": -9999\n",
    "        },\n",
    "        \"refinement\" : {\n",
    "            \"refinement_method\" : \"interpolation\"\n",
    "        }\n",
    "    }\n",
    "}"
   ]
  },
  {
   "cell_type": "markdown",
   "id": "cc9ab648-3d35-4b7f-b43b-05f98c484e57",
   "metadata": {},
   "source": [
    "#### Check the user configuration"
   ]
  },
  {
   "cell_type": "code",
   "execution_count": null,
   "id": "c8990415-3e46-4bdf-a103-58674a70efda",
   "metadata": {},
   "outputs": [],
   "source": [
    "cfg = check_conf(user_cfg, pandora2d_machine)\n",
    "pprint(cfg)"
   ]
  },
  {
   "cell_type": "markdown",
   "id": "0e4bc4f9-a5fc-42d1-bd5d-bfb39a2957a5",
   "metadata": {},
   "source": [
    "#### Prepare the machine "
   ]
  },
  {
   "cell_type": "code",
   "execution_count": null,
   "id": "15232ecf-766b-4e3d-b1b6-1237744bb297",
   "metadata": {},
   "outputs": [],
   "source": [
    "image_datasets = create_datasets_from_inputs(input_config=cfg[\"input\"])"
   ]
  },
  {
   "cell_type": "code",
   "execution_count": null,
   "id": "3c5f44d2-d88b-437b-a1c4-010c3c5e6070",
   "metadata": {},
   "outputs": [],
   "source": [
    "pandora2d_machine.run_prepare(image_datasets.left, image_datasets.right, cfg)"
   ]
  },
  {
   "cell_type": "markdown",
   "id": "6dcc27cd-5080-4e2b-888a-9fb69266f79e",
   "metadata": {},
   "source": [
    "#### Trigger all the steps of the machine at ones"
   ]
  },
  {
   "cell_type": "code",
   "execution_count": null,
   "id": "78f16554-0aad-4281-b855-a73ceea1326a",
   "metadata": {},
   "outputs": [],
   "source": [
    "dataset, _ = run(pandora2d_machine, image_datasets.left, image_datasets.right, cfg)"
   ]
  },
  {
   "cell_type": "markdown",
   "id": "be6da2a9-9822-4f6f-a63b-ce005d1c57be",
   "metadata": {},
   "source": [
    "#### Visualize output disparity maps"
   ]
  },
  {
   "cell_type": "markdown",
   "id": "89eec9b4-3fa7-40a0-9a86-79f874635f5d",
   "metadata": {},
   "source": [
    "Row disparity map"
   ]
  },
  {
   "cell_type": "code",
   "execution_count": null,
   "id": "67fc94fa-e544-428c-ab2b-1d5edf2c15ca",
   "metadata": {},
   "outputs": [],
   "source": [
    "plot_image(dataset[\"row_map\"].data, \"Row refined disparity map\", output_dir, cmap=pandora_cmap())"
   ]
  },
  {
   "cell_type": "markdown",
   "id": "f7749bbc-48e6-472c-9603-9a80c9de9949",
   "metadata": {},
   "source": [
    "Column disparity map"
   ]
  },
  {
   "cell_type": "code",
   "execution_count": null,
   "id": "e9e83091-6405-4718-965d-b525c2fc30ca",
   "metadata": {},
   "outputs": [],
   "source": [
    "plot_image(dataset[\"col_map\"].data, \"Columns refined disparity map\", output_dir, cmap=pandora_cmap())"
   ]
  },
  {
   "cell_type": "markdown",
   "id": "7b6f0b71-c3a5-4cf4-8e85-e2b1f1a3ceab",
   "metadata": {},
   "source": [
    "# Option 2 : Add a step parameter in the matching cost computation"
   ]
  },
  {
   "cell_type": "markdown",
   "id": "90543bd6-6c01-4d78-8d40-b44b972f29c0",
   "metadata": {},
   "source": [
    "It is possible to add a \"step\" parameter in the matching cost computation in order not to perform the calculation for each pixel. "
   ]
  },
  {
   "cell_type": "markdown",
   "id": "45d9dd2e-0dab-4f75-b4a6-d39e1b344ed5",
   "metadata": {},
   "source": [
    "#### Instantiate the machine"
   ]
  },
  {
   "cell_type": "code",
   "execution_count": null,
   "id": "f877891b-5d9b-476f-9cc6-a154b9c5a282",
   "metadata": {},
   "outputs": [],
   "source": [
    "pandora2d_machine = Pandora2DMachine()"
   ]
  },
  {
   "cell_type": "markdown",
   "id": "d19de27b-1aac-4261-9c01-0f885d236531",
   "metadata": {},
   "source": [
    "#### Define pipeline configuration"
   ]
  },
  {
   "cell_type": "code",
   "execution_count": null,
   "id": "c93b677d-f3ce-4891-877d-de27f5c40c26",
   "metadata": {},
   "outputs": [],
   "source": [
    "user_cfg = {\n",
    "    \"input\": {\n",
    "        \"left\": {\n",
    "            \"img\": img_left_path,\n",
    "            \"nodata\": \"NaN\",\n",
    "        },\n",
    "        \"right\": {\n",
    "            \"img\": img_right_path,\n",
    "            \"nodata\": \"NaN\",\n",
    "        },\n",
    "        \"col_disparity\": [-3, 3],\n",
    "        \"row_disparity\": [-3, 3],\n",
    "    },\n",
    "    \"pipeline\":{\n",
    "        \"matching_cost\" : {\n",
    "            \"matching_cost_method\": \"zncc\",\n",
    "            \"window_size\": 7,\n",
    "            \"step\" : [5,5]\n",
    "        },\n",
    "        \"disparity\": {\n",
    "            \"disparity_method\": \"wta\",\n",
    "            \"invalid_disparity\": -9999\n",
    "        },\n",
    "        \"refinement\" : {\n",
    "            \"refinement_method\" : \"interpolation\"\n",
    "        }\n",
    "    }\n",
    "}"
   ]
  },
  {
   "cell_type": "markdown",
   "id": "38726b05-4186-43e1-b6ad-4d6c968153f2",
   "metadata": {},
   "source": [
    "#### Check the user configuration"
   ]
  },
  {
   "cell_type": "code",
   "execution_count": null,
   "id": "c076a3f0-2316-49e3-9c61-7ab916a813a2",
   "metadata": {},
   "outputs": [],
   "source": [
    "cfg = check_conf(user_cfg, pandora2d_machine)\n",
    "pprint(cfg)"
   ]
  },
  {
   "cell_type": "markdown",
   "id": "0c323890-9eba-4307-a4b7-6e0213eef129",
   "metadata": {},
   "source": [
    "#### Prepare the machine "
   ]
  },
  {
   "cell_type": "code",
   "execution_count": null,
   "id": "6ffe3e4a-3af4-4eea-b702-3c524b0c9d3f",
   "metadata": {},
   "outputs": [],
   "source": [
    "image_datasets = create_datasets_from_inputs(input_config=cfg[\"input\"])"
   ]
  },
  {
   "cell_type": "code",
   "execution_count": null,
   "id": "4f61449d-2797-44dc-976d-c6c97505806c",
   "metadata": {},
   "outputs": [],
   "source": [
    "pandora2d_machine.run_prepare(image_datasets.left, image_datasets.right, cfg)"
   ]
  },
  {
   "cell_type": "markdown",
   "id": "22d20c28-0177-4cc7-8bbd-ee41a7697fa1",
   "metadata": {},
   "source": [
    "#### Trigger all the steps of the machine at ones"
   ]
  },
  {
   "cell_type": "code",
   "execution_count": null,
   "id": "e40d9a28-43d8-42bc-84d7-cd3c6712236e",
   "metadata": {},
   "outputs": [],
   "source": [
    "dataset, _ = run(pandora2d_machine, image_datasets.left, image_datasets.right, cfg)"
   ]
  },
  {
   "cell_type": "markdown",
   "id": "6e2c5379-c360-4fed-b85d-0e188d5707db",
   "metadata": {},
   "source": [
    "#### Visualize output disparity maps"
   ]
  },
  {
   "cell_type": "markdown",
   "id": "d8835eda-2465-4bd9-8407-260b0c1e21f3",
   "metadata": {},
   "source": [
    "Row disparity map"
   ]
  },
  {
   "cell_type": "code",
   "execution_count": null,
   "id": "7b7e6672-f799-4f7d-9329-c2b2eaf743d1",
   "metadata": {},
   "outputs": [],
   "source": [
    "plot_image(dataset[\"row_map\"].data, \"Row refined disparity map\", output_dir, cmap=pandora_cmap())"
   ]
  },
  {
   "cell_type": "markdown",
   "id": "5534b376-23c4-4881-9543-d5b922e16f7f",
   "metadata": {},
   "source": [
    "Column disparity map"
   ]
  },
  {
   "cell_type": "code",
   "execution_count": null,
   "id": "ed94ba39-4b83-4488-a64e-560abe1af864",
   "metadata": {},
   "outputs": [],
   "source": [
    "plot_image(dataset[\"col_map\"].data, \"Columns refined disparity map\", output_dir, cmap=pandora_cmap())"
   ]
  },
  {
   "cell_type": "markdown",
   "id": "3edf0cf8-d8dc-45b7-b4f3-d6984bd6daa9",
   "metadata": {},
   "source": [
    "# Option 3 : Add a ROI "
   ]
  },
  {
   "cell_type": "markdown",
   "id": "c8aef9d9-4689-4cb1-9c35-edf81b913620",
   "metadata": {},
   "source": [
    "It is possible to work on only one section of the image with an ROI. For this, the user can specify the area he wants in the configuration file. "
   ]
  },
  {
   "cell_type": "markdown",
   "id": "f41ecd48-85b7-4233-ab83-dac8f0707b24",
   "metadata": {},
   "source": [
    "#### Instantiate the machine"
   ]
  },
  {
   "cell_type": "code",
   "execution_count": null,
   "id": "c53e22e1-961b-4ba3-b694-0557a3f4d0eb",
   "metadata": {},
   "outputs": [],
   "source": [
    "pandora2d_machine = Pandora2DMachine()"
   ]
  },
  {
   "cell_type": "markdown",
   "id": "7f43515b-585e-4aff-8ef7-f7cd18bced17",
   "metadata": {},
   "source": [
    "#### Define pipeline configuration"
   ]
  },
  {
   "cell_type": "code",
   "execution_count": null,
   "id": "057bb278-792b-44f3-ad9b-43300182e46a",
   "metadata": {},
   "outputs": [],
   "source": [
    "user_cfg = {\n",
    "    \"input\": {\n",
    "        \"left\": {\n",
    "            \"img\": img_left_path,\n",
    "            \"nodata\": \"NaN\",\n",
    "        },\n",
    "        \"right\": {\n",
    "            \"img\": img_right_path,\n",
    "            \"nodata\": \"NaN\",\n",
    "        },\n",
    "        \"col_disparity\": [-3, 3],\n",
    "        \"row_disparity\": [-3, 3],\n",
    "    },\n",
    "    \"ROI\":{\n",
    "        \"col\": {\"first\": 10, \"last\": 100},\n",
    "        \"row\": {\"first\": 10, \"last\": 100}\n",
    "    },\n",
    "    \"pipeline\":{\n",
    "        \"matching_cost\" : {\n",
    "            \"matching_cost_method\": \"zncc\",\n",
    "            \"window_size\": 7,\n",
    "        },\n",
    "        \"disparity\": {\n",
    "            \"disparity_method\": \"wta\",\n",
    "            \"invalid_disparity\": -9999\n",
    "        },\n",
    "        \"refinement\" : {\n",
    "            \"refinement_method\" : \"interpolation\"\n",
    "        }\n",
    "    }\n",
    "}"
   ]
  },
  {
   "cell_type": "markdown",
   "id": "ecf198ef-243a-4c9d-8f60-c3957554566c",
   "metadata": {},
   "source": [
    "#### Check the user configuration"
   ]
  },
  {
   "cell_type": "code",
   "execution_count": null,
   "id": "52fb479a-b217-423f-bce1-4d85dac3111c",
   "metadata": {},
   "outputs": [],
   "source": [
    "cfg = check_conf(user_cfg, pandora2d_machine)\n",
    "pprint(cfg)"
   ]
  },
  {
   "cell_type": "markdown",
   "id": "4d4ba280-15ac-4c0e-bc06-064a7566a1e5",
   "metadata": {},
   "source": [
    "#### Add margins to the ROI to compute all the disparities in the col_disparity and row_disparity intervals"
   ]
  },
  {
   "cell_type": "code",
   "execution_count": null,
   "id": "02ed97c9-274a-49a0-82a0-b8b4c809bac8",
   "metadata": {},
   "outputs": [],
   "source": [
    "cfg[\"ROI\"][\"margins\"] = pandora2d_machine.margins.global_margins.astuple()\n",
    "roi = get_roi_processing(cfg[\"ROI\"], cfg[\"input\"][\"col_disparity\"], cfg[\"input\"][\"row_disparity\"])"
   ]
  },
  {
   "cell_type": "markdown",
   "id": "c1e86635-0be7-4b6c-b63a-0129a05871fc",
   "metadata": {},
   "source": [
    "#### Prepare the machine : Only the region of interest (ROI) is read and returned"
   ]
  },
  {
   "cell_type": "code",
   "execution_count": null,
   "id": "27a10e17-5d20-4f04-b057-ea11225e8115",
   "metadata": {},
   "outputs": [],
   "source": [
    "image_datasets = create_datasets_from_inputs(input_config=cfg[\"input\"], roi=roi)"
   ]
  },
  {
   "cell_type": "code",
   "execution_count": null,
   "id": "ffaea2b1-e11a-4e56-a9e4-4d466e38a9cf",
   "metadata": {},
   "outputs": [],
   "source": [
    "pandora2d_machine.run_prepare(image_datasets.left, image_datasets.right, cfg)"
   ]
  },
  {
   "cell_type": "markdown",
   "id": "5eb60600-b93a-43a1-9e46-32aad2eeb035",
   "metadata": {},
   "source": [
    "#### Trigger all the steps of the machine at ones"
   ]
  },
  {
   "cell_type": "code",
   "execution_count": null,
   "id": "09411816-f989-42d9-816f-f80558ab6135",
   "metadata": {},
   "outputs": [],
   "source": [
    "dataset, _ = run(pandora2d_machine, image_datasets.left, image_datasets.right, cfg)"
   ]
  },
  {
   "cell_type": "markdown",
   "id": "5d96a411-0d44-4ceb-aa0a-e5de60e933a5",
   "metadata": {},
   "source": [
    "#### Visualize output disparity maps"
   ]
  },
  {
   "cell_type": "markdown",
   "id": "69e62604",
   "metadata": {},
   "source": [
    "Processing margins are included in the disparity map view below. These can be removed by calling the method pandora2d.img_tools.remove_roi_margins()"
   ]
  },
  {
   "cell_type": "markdown",
   "id": "4ea5cba4-b57b-415f-97fb-21387913d32d",
   "metadata": {},
   "source": [
    "Row disparity map"
   ]
  },
  {
   "cell_type": "code",
   "execution_count": null,
   "id": "7d34d92c-5c71-4ec4-be6a-fb8a91f8da22",
   "metadata": {},
   "outputs": [],
   "source": [
    "plot_image(dataset[\"row_map\"].data, \"Row refined disparity map\", output_dir, cmap=pandora_cmap())"
   ]
  },
  {
   "cell_type": "markdown",
   "id": "14b577a1-7d75-4f42-b7b7-0a9899e6af13",
   "metadata": {},
   "source": [
    "Column disparity map"
   ]
  },
  {
   "cell_type": "code",
   "execution_count": null,
   "id": "f123b5cc-ff69-42ab-a0c0-74000bee60bd",
   "metadata": {},
   "outputs": [],
   "source": [
    "plot_image(dataset[\"col_map\"].data, \"Columns refined disparity map\", output_dir, cmap=pandora_cmap())"
   ]
  },
  {
   "cell_type": "code",
   "execution_count": null,
   "id": "c03eb5ae-2a3b-41e8-a204-beebeb4bbd7e",
   "metadata": {},
   "outputs": [],
   "source": []
  }
 ],
 "metadata": {
  "kernelspec": {
   "display_name": "Python 3 (ipykernel)",
   "language": "python",
   "name": "python3"
  },
  "language_info": {
   "codemirror_mode": {
    "name": "ipython",
    "version": 3
   },
   "file_extension": ".py",
   "mimetype": "text/x-python",
   "name": "python",
   "nbconvert_exporter": "python",
   "pygments_lexer": "ipython3",
   "version": "3.8.16"
  }
 },
 "nbformat": 4,
 "nbformat_minor": 5
}
