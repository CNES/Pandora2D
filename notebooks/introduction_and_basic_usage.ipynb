{
 "cells": [
  {
   "cell_type": "markdown",
   "id": "passive-brief",
   "metadata": {},
   "source": [
    "<img src=\"img/pandora2d_logo.png\" width=\"500\" height=\"500\">"
   ]
  },
  {
   "cell_type": "markdown",
   "id": "external-origin",
   "metadata": {},
   "source": [
    "# Pandora2D : a coregistration framework"
   ]
  },
  {
   "cell_type": "markdown",
   "id": "universal-hardwood",
   "metadata": {},
   "source": [
    "# Introduction and basic usage"
   ]
  },
  {
   "cell_type": "markdown",
   "id": "asian-means",
   "metadata": {},
   "source": [
    "#### Imports and external functions"
   ]
  },
  {
   "cell_type": "code",
   "execution_count": null,
   "id": "popular-sunglasses",
   "metadata": {},
   "outputs": [],
   "source": [
    "import pandora\n",
    "import io\n",
    "from pathlib import Path\n",
    "from IPython.display import Image, display"
   ]
  },
  {
   "cell_type": "code",
   "execution_count": null,
   "id": "premier-marking",
   "metadata": {},
   "outputs": [],
   "source": [
    "def plot_state_machine(pandora2d_machine):\n",
    "    \"\"\"\n",
    "    Show the schemes of step of Pandora2D Machine\n",
    "    \"\"\"\n",
    "    stream = io.BytesIO()\n",
    "    try:\n",
    "        pandora2d_machine.get_graph().draw(stream, prog='dot', format='png')\n",
    "        display(Image(stream.getvalue()))\n",
    "    except:\n",
    "        print(\"It is not possible to show the graphic of the state machine. To solve it, please install graphviz on your system (apt-get install graphviz if operating in Linux) and install python package with pip insall graphviz\")"
   ]
  },
  {
   "cell_type": "code",
   "execution_count": null,
   "id": "equal-diagram",
   "metadata": {},
   "outputs": [],
   "source": [
    "from snippets.utils import *"
   ]
  },
  {
   "cell_type": "markdown",
   "id": "everyday-richardson",
   "metadata": {},
   "source": [
    "# What is Pandora2D ?\n",
    "* Pandora2d is a Toolbox to estimate disparity in two dimensions\n",
    "* It works with Pandora\n",
    "* It is easy to configure and modular"
   ]
  },
  {
   "cell_type": "markdown",
   "id": "complete-survival",
   "metadata": {},
   "source": [
    "## Inputs\n",
    "\n",
    "* Image pair\n",
    "* Value associated to no_data images\n",
    "* Disparity ranges to explore \n",
    "* Configuration file\n",
    "\n",
    "## Outputs\n",
    "\n",
    "* Disparity maps for row's axis\n",
    "* Disparity maps for column's axis"
   ]
  },
  {
   "cell_type": "markdown",
   "id": "relevant-aside",
   "metadata": {},
   "source": [
    "## Pandora2D's pipeline\n",
    "\n",
    "Pandora2D provides the following steps:\n",
    "* matching cost computation (**mandatory**)\n",
    "* disparity computation (**mandatory**)\n",
    "* subpixel disparity refinement"
   ]
  },
  {
   "cell_type": "markdown",
   "id": "still-lewis",
   "metadata": {},
   "source": [
    "<img src=\"img/Pandora2D_pipeline.png\" width=\"700\">"
   ]
  },
  {
   "cell_type": "markdown",
   "id": "defensive-alliance",
   "metadata": {},
   "source": [
    "### Available implementations for each step\n",
    "\n",
    "| Step                      | Algorithms implemented |\n",
    "|:--------------------------|:-----------------------|\n",
    "| Matching cost computation | SAD / SSD / ZNNC       |\n",
    "| Disparity computation     | Winner-Takes-All        |\n",
    "| Subpixel disparity refinement | Interpolation      |"
   ]
  },
  {
   "cell_type": "markdown",
   "id": "advisory-fortune",
   "metadata": {},
   "source": [
    "# Pandora2D execution options with state machine"
   ]
  },
  {
   "cell_type": "markdown",
   "id": "advanced-circular",
   "metadata": {},
   "source": [
    "#### Imports of pandora2d"
   ]
  },
  {
   "cell_type": "code",
   "execution_count": null,
   "id": "juvenile-immigration",
   "metadata": {},
   "outputs": [],
   "source": [
    "# Load pandora imports\n",
    "import pandora2d\n",
    "from pandora2d.state_machine import Pandora2DMachine\n",
    "from pandora2d import check_json\n",
    "\n",
    "\n",
    "from pandora.img_tools import read_img"
   ]
  },
  {
   "cell_type": "markdown",
   "id": "unknown-heart",
   "metadata": {},
   "source": [
    "#### Load and visualize input data "
   ]
  },
  {
   "cell_type": "markdown",
   "id": "adjacent-comment",
   "metadata": {},
   "source": [
    "Provide image path"
   ]
  },
  {
   "cell_type": "code",
   "execution_count": null,
   "id": "fewer-cradle",
   "metadata": {},
   "outputs": [],
   "source": [
    "# Paths to left and right images\n",
    "img_left_path = \"data/left.tif\"\n",
    "img_right_path = \"data/right.tif\""
   ]
  },
  {
   "cell_type": "code",
   "execution_count": null,
   "id": "essential-welsh",
   "metadata": {},
   "outputs": [],
   "source": [
    "# image configuration\n",
    "image_cfg = {'image': {'no_data_left': np.nan, 'no_data_right': np.nan}}"
   ]
  },
  {
   "cell_type": "markdown",
   "id": "integral-arizona",
   "metadata": {},
   "source": [
    "Provide output directory to write results"
   ]
  },
  {
   "cell_type": "code",
   "execution_count": null,
   "id": "forbidden-decrease",
   "metadata": {},
   "outputs": [],
   "source": [
    "output_dir = os.path.join(os.getcwd(),\"output\")\n",
    "# If necessary, create output dir\n",
    "Path(output_dir).mkdir(exist_ok=True,parents=True)"
   ]
  },
  {
   "cell_type": "markdown",
   "id": "surrounded-diameter",
   "metadata": {},
   "source": [
    "Convert input data to dataset"
   ]
  },
  {
   "cell_type": "code",
   "execution_count": null,
   "id": "adapted-queensland",
   "metadata": {},
   "outputs": [],
   "source": [
    "img_left = read_img(img_left_path, no_data=image_cfg['image']['no_data_left'])\n",
    "img_right = read_img(img_right_path, no_data=image_cfg['image']['no_data_right'])"
   ]
  },
  {
   "cell_type": "markdown",
   "id": "relative-sellers",
   "metadata": {},
   "source": [
    "Visualize input data"
   ]
  },
  {
   "cell_type": "code",
   "execution_count": null,
   "id": "intermediate-grain",
   "metadata": {},
   "outputs": [],
   "source": [
    "fig = plt.figure(figsize=(10,10))\n",
    "ax0 = fig.add_subplot(1,2,1)\n",
    "ax0.imshow(img_left[\"im\"].data)\n",
    "plt.title(\"Left image\")\n",
    "ax1 = fig.add_subplot(1,2,2)\n",
    "ax1.imshow(img_right[\"im\"].data)\n",
    "plt.title(\"Right image\")"
   ]
  },
  {
   "cell_type": "markdown",
   "id": "sweet-physiology",
   "metadata": {},
   "source": [
    "# Option 1 : trigger all the steps of the machine at ones"
   ]
  },
  {
   "cell_type": "markdown",
   "id": "atomic-throat",
   "metadata": {},
   "source": [
    "#### Instantiate the machine"
   ]
  },
  {
   "cell_type": "code",
   "execution_count": null,
   "id": "champion-navigation",
   "metadata": {
    "scrolled": true
   },
   "outputs": [],
   "source": [
    "pandora2d_machine = Pandora2DMachine()"
   ]
  },
  {
   "cell_type": "markdown",
   "id": "secondary-privacy",
   "metadata": {},
   "source": [
    "#### Define pipeline configuration"
   ]
  },
  {
   "cell_type": "code",
   "execution_count": null,
   "id": "varied-premises",
   "metadata": {},
   "outputs": [],
   "source": [
    "user_pipeline_cfg = {\n",
    "    'pipeline':{\n",
    "        \"matching_cost\" : {\n",
    "            \"matching_cost_method\": \"zncc\",\n",
    "            \"window_size\": 5,\n",
    "        },\n",
    "        \"disparity\": {\n",
    "            \"disparity_method\": \"wta\",\n",
    "            \"invalid_disparity\": -2\n",
    "        },\n",
    "        \"refinement\" : {\n",
    "            \"refinement_method\" : \"interpolation\"\n",
    "        }\n",
    "    }\n",
    "}"
   ]
  },
  {
   "cell_type": "markdown",
   "id": "compatible-guard",
   "metadata": {},
   "source": [
    "Disparity interval used for row"
   ]
  },
  {
   "cell_type": "code",
   "execution_count": null,
   "id": "eastern-tradition",
   "metadata": {},
   "outputs": [],
   "source": [
    "disp_min_row = -2\n",
    "disp_max_row = 2"
   ]
  },
  {
   "cell_type": "markdown",
   "id": "deadly-administration",
   "metadata": {},
   "source": [
    "Disparity interval used for colummns"
   ]
  },
  {
   "cell_type": "code",
   "execution_count": null,
   "id": "coastal-detective",
   "metadata": {},
   "outputs": [],
   "source": [
    "disp_min_col = -2\n",
    "disp_max_col = 2"
   ]
  },
  {
   "cell_type": "markdown",
   "id": "spatial-hungary",
   "metadata": {},
   "source": [
    "#### Check the configuration and sequence of steps"
   ]
  },
  {
   "cell_type": "code",
   "execution_count": null,
   "id": "coordinate-spine",
   "metadata": {},
   "outputs": [],
   "source": [
    "checked_cfg = check_json.check_pipeline_section(user_pipeline_cfg, pandora2d_machine)"
   ]
  },
  {
   "cell_type": "code",
   "execution_count": null,
   "id": "subsequent-essence",
   "metadata": {},
   "outputs": [],
   "source": [
    "pipeline_cfg = checked_cfg['pipeline']\n",
    "print(pipeline_cfg)"
   ]
  },
  {
   "cell_type": "markdown",
   "id": "straight-warning",
   "metadata": {},
   "source": [
    "#### Prepare the machine "
   ]
  },
  {
   "cell_type": "code",
   "execution_count": null,
   "id": "burning-dancing",
   "metadata": {},
   "outputs": [],
   "source": [
    "pandora2d_machine.run_prepare(img_left, img_right, disp_min_col, disp_max_col, disp_min_row, disp_max_row)"
   ]
  },
  {
   "cell_type": "markdown",
   "id": "spectacular-spending",
   "metadata": {},
   "source": [
    "#### Trigger all the steps of the machine at ones"
   ]
  },
  {
   "cell_type": "code",
   "execution_count": null,
   "id": "touched-writer",
   "metadata": {},
   "outputs": [],
   "source": [
    "dataset = pandora2d.run(pandora2d_machine, img_left, img_right, disp_min_col, disp_max_col, disp_min_row, disp_max_row, pipeline_cfg)"
   ]
  },
  {
   "cell_type": "markdown",
   "id": "incredible-whole",
   "metadata": {},
   "source": [
    "Visualize output disparity map"
   ]
  },
  {
   "cell_type": "code",
   "execution_count": null,
   "id": "black-armenia",
   "metadata": {},
   "outputs": [],
   "source": [
    "plot_image(dataset[\"row_map\"].data, \"Row refined disparity map\", output_dir, cmap=pandora_cmap())"
   ]
  },
  {
   "cell_type": "code",
   "execution_count": null,
   "id": "vocational-africa",
   "metadata": {
    "scrolled": true
   },
   "outputs": [],
   "source": [
    "plot_image(dataset[\"col_map\"].data, \"Columns refined disparity map\", output_dir, cmap=pandora_cmap())"
   ]
  },
  {
   "cell_type": "markdown",
   "id": "raising-problem",
   "metadata": {},
   "source": [
    "# Option 2 : trigger the machine step by step"
   ]
  },
  {
   "cell_type": "markdown",
   "id": "adjusted-clerk",
   "metadata": {},
   "source": [
    "The implementation of Pandora2D with a state machine makes it possible to set up a more flexible pipeline, which makes it possible to choose via a configuration file the steps wishes to follow in Pandora2D.\n",
    "\n",
    "Moreover, the state machine allows to run each step of the pipeline independently, giving the possibility to save and visualize the results after each step. "
   ]
  },
  {
   "cell_type": "markdown",
   "id": "important-piano",
   "metadata": {},
   "source": [
    "The state machine has three states : \n",
    "* Begin\n",
    "* Cost volumes\n",
    "* Disparity maps\n",
    "\n",
    "Being the connections between them the different steps of the pipeline."
   ]
  },
  {
   "cell_type": "markdown",
   "id": "built-denver",
   "metadata": {},
   "source": [
    "<img src=\"img/Pandora2D_pipeline.png\" width=\"700\">"
   ]
  },
  {
   "cell_type": "markdown",
   "id": "advised-manitoba",
   "metadata": {},
   "source": [
    "#### Instantiate the machine"
   ]
  },
  {
   "cell_type": "code",
   "execution_count": null,
   "id": "conventional-meditation",
   "metadata": {},
   "outputs": [],
   "source": [
    "pandora2d_machine = Pandora2DMachine()"
   ]
  },
  {
   "cell_type": "markdown",
   "id": "champion-banana",
   "metadata": {},
   "source": [
    "#### Define pipeline configuration"
   ]
  },
  {
   "cell_type": "code",
   "execution_count": null,
   "id": "diverse-reunion",
   "metadata": {},
   "outputs": [],
   "source": [
    "user_pipeline_cfg = {\n",
    "    'pipeline':{\n",
    "        \"matching_cost\" : {\n",
    "            \"matching_cost_method\": \"zncc\",\n",
    "            \"window_size\": 5,\n",
    "        },\n",
    "        \"disparity\": {\n",
    "            \"disparity_method\": \"wta\",\n",
    "            \"invalid_disparity\": -5\n",
    "        },\n",
    "        \"refinement\":{\n",
    "            \"refinement_method\" : \"interpolation\"\n",
    "        }\n",
    "    }\n",
    "}"
   ]
  },
  {
   "cell_type": "markdown",
   "id": "documentary-grace",
   "metadata": {},
   "source": [
    "Disparity interval used for row"
   ]
  },
  {
   "cell_type": "code",
   "execution_count": null,
   "id": "charitable-diamond",
   "metadata": {},
   "outputs": [],
   "source": [
    "disp_min_row = -2\n",
    "disp_max_row = 2"
   ]
  },
  {
   "cell_type": "markdown",
   "id": "flexible-arrest",
   "metadata": {},
   "source": [
    "Disparity interval used for colummns"
   ]
  },
  {
   "cell_type": "code",
   "execution_count": null,
   "id": "traditional-underground",
   "metadata": {},
   "outputs": [],
   "source": [
    "disp_min_col = -2\n",
    "disp_max_col = 2"
   ]
  },
  {
   "cell_type": "markdown",
   "id": "finnish-commissioner",
   "metadata": {},
   "source": [
    "#### Check the configuration and sequence of steps"
   ]
  },
  {
   "cell_type": "code",
   "execution_count": null,
   "id": "cooked-adrian",
   "metadata": {},
   "outputs": [],
   "source": [
    "checked_cfg = check_json.check_pipeline_section(user_pipeline_cfg, pandora2d_machine)"
   ]
  },
  {
   "cell_type": "code",
   "execution_count": null,
   "id": "adopted-tissue",
   "metadata": {
    "scrolled": true
   },
   "outputs": [],
   "source": [
    "pipeline_cfg = checked_cfg['pipeline']\n",
    "print(pipeline_cfg)"
   ]
  },
  {
   "cell_type": "markdown",
   "id": "finite-legislation",
   "metadata": {},
   "source": [
    "#### Prepare the machine "
   ]
  },
  {
   "cell_type": "code",
   "execution_count": null,
   "id": "deadly-classics",
   "metadata": {},
   "outputs": [],
   "source": [
    "pandora2d_machine.run_prepare(img_left, img_right, disp_min_col, disp_max_col, disp_min_row, disp_max_row)"
   ]
  },
  {
   "cell_type": "markdown",
   "id": "vietnamese-vietnam",
   "metadata": {},
   "source": [
    "#### Trigger the machine step by step"
   ]
  },
  {
   "cell_type": "code",
   "execution_count": null,
   "id": "better-establishment",
   "metadata": {
    "scrolled": false
   },
   "outputs": [],
   "source": [
    "plot_state_machine(pandora2d_machine)"
   ]
  },
  {
   "cell_type": "markdown",
   "id": "activated-usage",
   "metadata": {},
   "source": [
    "Run matching cost "
   ]
  },
  {
   "cell_type": "code",
   "execution_count": null,
   "id": "vietnamese-prime",
   "metadata": {},
   "outputs": [],
   "source": [
    "pandora2d_machine.run('matching_cost', pipeline_cfg)"
   ]
  },
  {
   "cell_type": "code",
   "execution_count": null,
   "id": "diverse-canvas",
   "metadata": {},
   "outputs": [],
   "source": [
    "plot_state_machine(pandora2d_machine)"
   ]
  },
  {
   "cell_type": "markdown",
   "id": "illegal-wellington",
   "metadata": {},
   "source": [
    "Run disparity "
   ]
  },
  {
   "cell_type": "code",
   "execution_count": null,
   "id": "lasting-college",
   "metadata": {},
   "outputs": [],
   "source": [
    "pandora2d_machine.run('disparity', pipeline_cfg)"
   ]
  },
  {
   "cell_type": "code",
   "execution_count": null,
   "id": "comprehensive-bidding",
   "metadata": {
    "scrolled": false
   },
   "outputs": [],
   "source": [
    "plot_state_machine(pandora2d_machine)"
   ]
  },
  {
   "cell_type": "code",
   "execution_count": null,
   "id": "decent-society",
   "metadata": {},
   "outputs": [],
   "source": [
    "plot_image(pandora2d_machine.dataset_disp_maps[\"col_map\"].data, \"Columns disparity map\", output_dir, cmap=pandora_cmap())"
   ]
  },
  {
   "cell_type": "code",
   "execution_count": null,
   "id": "obvious-mauritius",
   "metadata": {},
   "outputs": [],
   "source": [
    "plot_image(pandora2d_machine.dataset_disp_maps[\"row_map\"].data, \"Row disparity map\", output_dir, cmap=pandora_cmap())"
   ]
  },
  {
   "cell_type": "markdown",
   "id": "suspended-sampling",
   "metadata": {},
   "source": [
    "Run refinement "
   ]
  },
  {
   "cell_type": "code",
   "execution_count": null,
   "id": "educated-waste",
   "metadata": {},
   "outputs": [],
   "source": [
    "pandora2d_machine.run('refinement', pipeline_cfg)"
   ]
  },
  {
   "cell_type": "code",
   "execution_count": null,
   "id": "sharp-punch",
   "metadata": {},
   "outputs": [],
   "source": [
    "plot_state_machine(pandora2d_machine)"
   ]
  },
  {
   "cell_type": "markdown",
   "id": "removable-carry",
   "metadata": {},
   "source": [
    "Visualize output disparity map"
   ]
  },
  {
   "cell_type": "code",
   "execution_count": null,
   "id": "engaging-gregory",
   "metadata": {},
   "outputs": [],
   "source": [
    "plot_image(pandora2d_machine.dataset_disp_maps[\"col_map\"].data, \"Columns refined disparity map\", output_dir, cmap=pandora_cmap())"
   ]
  },
  {
   "cell_type": "code",
   "execution_count": null,
   "id": "adjacent-paintball",
   "metadata": {},
   "outputs": [],
   "source": [
    "plot_image(pandora2d_machine.dataset_disp_maps[\"row_map\"].data, \"Row refined disparity map\", output_dir, cmap=pandora_cmap())"
   ]
  },
  {
   "cell_type": "code",
   "execution_count": null,
   "id": "piano-purchase",
   "metadata": {},
   "outputs": [],
   "source": []
  }
 ],
 "metadata": {
  "kernelspec": {
   "display_name": "env_pandora_2D",
   "language": "python",
   "name": "env_pandora_2d"
  },
  "language_info": {
   "codemirror_mode": {
    "name": "ipython",
    "version": 3
   },
   "file_extension": ".py",
   "mimetype": "text/x-python",
   "name": "python",
   "nbconvert_exporter": "python",
   "pygments_lexer": "ipython3",
   "version": "3.6.9"
  }
 },
 "nbformat": 4,
 "nbformat_minor": 5
}
