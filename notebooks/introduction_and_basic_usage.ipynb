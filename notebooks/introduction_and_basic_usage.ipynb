{
 "cells": [
  {
   "cell_type": "markdown",
   "id": "passive-brief",
   "metadata": {},
   "source": [
    "<img src=\"img/pandora2d_logo.png\" width=\"500\" height=\"500\">"
   ]
  },
  {
   "cell_type": "markdown",
   "id": "external-origin",
   "metadata": {},
   "source": [
    "# Pandora2D : a coregistration framework"
   ]
  },
  {
   "cell_type": "markdown",
   "id": "universal-hardwood",
   "metadata": {},
   "source": [
    "# Introduction and basic usage"
   ]
  },
  {
   "cell_type": "markdown",
   "id": "asian-means",
   "metadata": {},
   "source": [
    "#### Imports and external functions"
   ]
  },
  {
   "cell_type": "code",
   "execution_count": null,
   "id": "popular-sunglasses",
   "metadata": {},
   "outputs": [],
   "source": [
    "import io\n",
    "from pathlib import Path\n",
    "from IPython.display import Image, display\n",
    "from pprint import pprint\n",
    "import numpy as np"
   ]
  },
  {
   "cell_type": "code",
   "execution_count": null,
   "id": "premier-marking",
   "metadata": {},
   "outputs": [],
   "source": [
    "def plot_state_machine(pandora2d_machine):\n",
    "    \"\"\"\n",
    "    Show the schemes of step of Pandora2D Machine\n",
    "    \"\"\"\n",
    "    stream = io.BytesIO()\n",
    "    try:\n",
    "        pandora2d_machine.get_graph().draw(stream, prog='dot', format='png')\n",
    "        display(Image(stream.getvalue()))\n",
    "    except:\n",
    "        print(\"It is not possible to show the graphic of the state machine. To solve it, please install graphviz on your system (apt-get install graphviz if operating in Linux) and install python package with pip insall graphviz\")"
   ]
  },
  {
   "cell_type": "code",
   "execution_count": null,
   "id": "equal-diagram",
   "metadata": {},
   "outputs": [],
   "source": [
    "from snippets.utils import *"
   ]
  },
  {
   "cell_type": "markdown",
   "id": "everyday-richardson",
   "metadata": {},
   "source": [
    "# What is Pandora2D ?\n",
    "* Pandora2d is a Toolbox to estimate disparity in two dimensions\n",
    "* It works with Pandora\n",
    "* It is easy to configure and modular"
   ]
  },
  {
   "cell_type": "markdown",
   "id": "complete-survival",
   "metadata": {},
   "source": [
    "## Inputs\n",
    "\n",
    "* Image pair\n",
    "* Value associated to no_data images\n",
    "* Disparity ranges to explore (if not estimation step)\n",
    "* Configuration file\n",
    "\n",
    "## Outputs\n",
    "\n",
    "* Disparity maps for row's axis\n",
    "* Disparity maps for column's axis"
   ]
  },
  {
   "cell_type": "markdown",
   "id": "relevant-aside",
   "metadata": {},
   "source": [
    "## Pandora2D's pipeline\n",
    "\n",
    "Pandora2D provides the following steps:\n",
    "* estimation computation\n",
    "* matching cost computation \n",
    "* disparity computation (**mandatory if matching_cost**)\n",
    "* subpixel disparity refinement"
   ]
  },
  {
   "cell_type": "markdown",
   "id": "still-lewis",
   "metadata": {},
   "source": [
    "<img src=\"img/Pandora2D_pipeline.png\" width=\"1000\">"
   ]
  },
  {
   "cell_type": "markdown",
   "id": "defensive-alliance",
   "metadata": {},
   "source": [
    "### Available implementations for each step\n",
    "\n",
    "| Step                          | Algorithms implemented                   |\n",
    "|:------------------------------|:-----------------------------------------|\n",
    "| Estimation computation        | phase cross correlation                  |\n",
    "| Matching cost computation     | SAD / SSD / ZNNC                         |\n",
    "| Disparity computation         | Winner-Takes-All                         |\n",
    "| Subpixel disparity refinement | Interpolation / Dichotomy / Optical flow |"
   ]
  },
  {
   "cell_type": "markdown",
   "id": "advisory-fortune",
   "metadata": {},
   "source": [
    "# Pandora2D execution options with state machine"
   ]
  },
  {
   "cell_type": "markdown",
   "id": "advanced-circular",
   "metadata": {},
   "source": [
    "#### Imports of pandora2d"
   ]
  },
  {
   "cell_type": "code",
   "execution_count": null,
   "id": "juvenile-immigration",
   "metadata": {},
   "outputs": [],
   "source": [
    "# Load pandora2d imports\n",
    "import pandora2d\n",
    "from pandora2d.state_machine import Pandora2DMachine\n",
    "from pandora2d.check_configuration import check_conf\n",
    "from pandora2d.img_tools import create_datasets_from_inputs"
   ]
  },
  {
   "cell_type": "markdown",
   "id": "unknown-heart",
   "metadata": {},
   "source": [
    "#### Load and visualize input data "
   ]
  },
  {
   "cell_type": "markdown",
   "id": "adjacent-comment",
   "metadata": {},
   "source": [
    "Provide image path"
   ]
  },
  {
   "cell_type": "code",
   "execution_count": null,
   "id": "fewer-cradle",
   "metadata": {},
   "outputs": [],
   "source": [
    "# Paths to left and right images\n",
    "img_left_path = \"data/left.tif\"\n",
    "img_right_path = \"data/right.tif\""
   ]
  },
  {
   "cell_type": "markdown",
   "id": "integral-arizona",
   "metadata": {},
   "source": [
    "Provide output directory to write results"
   ]
  },
  {
   "cell_type": "code",
   "execution_count": null,
   "id": "forbidden-decrease",
   "metadata": {},
   "outputs": [],
   "source": [
    "output_dir = Path.cwd() / \"output\"\n",
    "# If necessary, create output dir\n",
    "output_dir.mkdir(exist_ok=True,parents=True)"
   ]
  },
  {
   "cell_type": "markdown",
   "id": "surrounded-diameter",
   "metadata": {},
   "source": [
    "Convert input data to dataset"
   ]
  },
  {
   "cell_type": "code",
   "execution_count": null,
   "id": "ba1a66ab-5d33-46e6-bdde-154744692a63",
   "metadata": {},
   "outputs": [],
   "source": [
    "input_config = {\n",
    "    \"left\": {\"img\": img_left_path, \"nodata\": np.nan},\n",
    "    \"right\": {\"img\": img_right_path, \"nodata\": np.nan},\n",
    "    \"col_disparity\": [-2, 2],\n",
    "    \"row_disparity\": [-2, 2],\n",
    "}"
   ]
  },
  {
   "cell_type": "code",
   "execution_count": null,
   "id": "adapted-queensland",
   "metadata": {},
   "outputs": [],
   "source": [
    "img_left, img_right = create_datasets_from_inputs(input_config=input_config)"
   ]
  },
  {
   "cell_type": "markdown",
   "id": "8e2b5c35",
   "metadata": {},
   "source": [
    "`create_datasets_from_inputs` returns a namedTuple so we could have used:\n",
    "\n",
    "```python\n",
    "image_datasets = create_datasets_from_inputs(input_config=input_config)\n",
    "```\n",
    "\n",
    "and called:\n",
    "\n",
    " `image_datasets.left` or `image_datasets.right` instead of `img_left` and `img_right`."
   ]
  },
  {
   "cell_type": "code",
   "execution_count": null,
   "id": "intermediate-grain",
   "metadata": {},
   "outputs": [],
   "source": [
    "fig = plt.figure(figsize=(10,10))\n",
    "ax0 = fig.add_subplot(1,2,1)\n",
    "ax0.imshow(img_left[\"im\"].data)\n",
    "plt.title(\"Left image\")\n",
    "ax1 = fig.add_subplot(1,2,2)\n",
    "ax1.imshow(img_right[\"im\"].data)\n",
    "plt.title(\"Right image\")"
   ]
  },
  {
   "cell_type": "markdown",
   "id": "sweet-physiology",
   "metadata": {},
   "source": [
    "# Option 1 : trigger all the steps of the machine at ones"
   ]
  },
  {
   "cell_type": "markdown",
   "id": "atomic-throat",
   "metadata": {},
   "source": [
    "#### Instantiate the machine"
   ]
  },
  {
   "cell_type": "code",
   "execution_count": null,
   "id": "champion-navigation",
   "metadata": {},
   "outputs": [],
   "source": [
    "pandora2d_machine = Pandora2DMachine()"
   ]
  },
  {
   "cell_type": "markdown",
   "id": "secondary-privacy",
   "metadata": {},
   "source": [
    "#### Define pipeline configuration"
   ]
  },
  {
   "cell_type": "code",
   "execution_count": null,
   "id": "varied-premises",
   "metadata": {},
   "outputs": [],
   "source": [
    "user_cfg = {\n",
    "    \"input\": {\n",
    "        \"left\": {\n",
    "            \"img\": \"data/left.tif\",\n",
    "            \"nodata\": \"NaN\",\n",
    "        },\n",
    "        \"right\": {\n",
    "            \"img\": \"data/right.tif\",\n",
    "        },\n",
    "        \"col_disparity\": [-2, 2],\n",
    "        \"row_disparity\": [-2, 2],\n",
    "    },\n",
    "    \"pipeline\":{\n",
    "        \"matching_cost\" : {\n",
    "            \"matching_cost_method\": \"zncc\",\n",
    "            \"window_size\": 5,\n",
    "        },\n",
    "        \"disparity\": {\n",
    "            \"disparity_method\": \"wta\",\n",
    "            \"invalid_disparity\": -2\n",
    "        },\n",
    "        \"refinement\" : {\n",
    "            \"refinement_method\" : \"optical_flow\",\n",
    "            \"iterations\": 4\n",
    "        }\n",
    "    }\n",
    "}"
   ]
  },
  {
   "cell_type": "markdown",
   "id": "spatial-hungary",
   "metadata": {},
   "source": [
    "#### Check the configuration and sequence of steps"
   ]
  },
  {
   "cell_type": "code",
   "execution_count": null,
   "id": "91b2263f-2e9f-41e2-912e-7f1250793e44",
   "metadata": {},
   "outputs": [],
   "source": [
    "checked_cfg = check_conf(user_cfg, pandora2d_machine)"
   ]
  },
  {
   "cell_type": "code",
   "execution_count": null,
   "id": "subsequent-essence",
   "metadata": {},
   "outputs": [],
   "source": [
    "pipeline_cfg = checked_cfg['pipeline']\n",
    "pprint(pipeline_cfg)"
   ]
  },
  {
   "cell_type": "markdown",
   "id": "straight-warning",
   "metadata": {},
   "source": [
    "#### Prepare the machine "
   ]
  },
  {
   "cell_type": "code",
   "execution_count": null,
   "id": "555daddc-b0d4-4044-af33-68ed3bf287b7",
   "metadata": {},
   "outputs": [],
   "source": [
    "image_datasets = create_datasets_from_inputs(input_config=checked_cfg[\"input\"])"
   ]
  },
  {
   "cell_type": "markdown",
   "id": "spectacular-spending",
   "metadata": {},
   "source": [
    "#### Trigger all the steps of the machine at ones"
   ]
  },
  {
   "cell_type": "code",
   "execution_count": null,
   "id": "touched-writer",
   "metadata": {},
   "outputs": [],
   "source": [
    "dataset, _ = pandora2d.run(\n",
    "    pandora2d_machine,\n",
    "    image_datasets.left,\n",
    "    image_datasets.right,\n",
    "    checked_cfg\n",
    "    )"
   ]
  },
  {
   "cell_type": "markdown",
   "id": "incredible-whole",
   "metadata": {},
   "source": [
    "Visualize output disparity map"
   ]
  },
  {
   "cell_type": "code",
   "execution_count": null,
   "id": "239289be-ce1a-4bf6-8901-3fd747b62ad3",
   "metadata": {},
   "outputs": [],
   "source": [
    "plot_two_images(dataset[\"row_map\"].data,\n",
    "                dataset[\"col_map\"].data,\n",
    "                \"Row disparity map\",\n",
    "                \"Columns disparity map\", \n",
    "                output_dir, \n",
    "                cmap=pandora_cmap())"
   ]
  },
  {
   "cell_type": "markdown",
   "id": "3ce376bf-f897-4f92-a935-ff0bece1488a",
   "metadata": {},
   "source": [
    "Visualize correlation score "
   ]
  },
  {
   "cell_type": "code",
   "execution_count": null,
   "id": "d423d373-83a8-4228-ba91-bf34a990c32b",
   "metadata": {},
   "outputs": [],
   "source": [
    "plot_image(dataset[\"correlation_score\"].data, \"Correlation score\", output_dir, cmap=pandora_cmap())"
   ]
  },
  {
   "cell_type": "markdown",
   "id": "raising-problem",
   "metadata": {},
   "source": [
    "# Option 2 : trigger the machine step by step"
   ]
  },
  {
   "cell_type": "markdown",
   "id": "adjusted-clerk",
   "metadata": {},
   "source": [
    "The implementation of Pandora2D with a state machine makes it possible to set up a more flexible pipeline, which makes it possible to choose via a configuration file the steps wishes to follow in Pandora2D.\n",
    "\n",
    "Moreover, the state machine allows to run each step of the pipeline independently, giving the possibility to save and visualize the results after each step. "
   ]
  },
  {
   "cell_type": "markdown",
   "id": "important-piano",
   "metadata": {},
   "source": [
    "The state machine has three states : \n",
    "* Begin\n",
    "* Assumption\n",
    "* Cost volumes\n",
    "* Disparity maps\n",
    "\n",
    "Being the connections between them the different steps of the pipeline."
   ]
  },
  {
   "cell_type": "markdown",
   "id": "built-denver",
   "metadata": {},
   "source": [
    "<img src=\"img/Pandora2D_pipeline.png\" width=\"1000\">"
   ]
  },
  {
   "cell_type": "markdown",
   "id": "advised-manitoba",
   "metadata": {},
   "source": [
    "#### Instantiate the machine"
   ]
  },
  {
   "cell_type": "code",
   "execution_count": null,
   "id": "conventional-meditation",
   "metadata": {},
   "outputs": [],
   "source": [
    "pandora2d_machine = Pandora2DMachine()"
   ]
  },
  {
   "cell_type": "markdown",
   "id": "champion-banana",
   "metadata": {},
   "source": [
    "#### Define pipeline configuration"
   ]
  },
  {
   "cell_type": "code",
   "execution_count": null,
   "id": "diverse-reunion",
   "metadata": {},
   "outputs": [],
   "source": [
    "user_cfg = {\n",
    "    \"input\": {\n",
    "        \"left\": {\n",
    "            \"img\": \"data/left.tif\",\n",
    "            \"nodata\": \"NaN\",\n",
    "        },\n",
    "        \"right\": {\n",
    "            \"img\": \"data/right.tif\",\n",
    "        },\n",
    "        \"col_disparity\": [-2, 2],\n",
    "        \"row_disparity\": [-2, 2],\n",
    "    },\n",
    "    \"pipeline\":{\n",
    "        \"matching_cost\" : {\n",
    "            \"matching_cost_method\": \"zncc\",\n",
    "            \"window_size\": 5,\n",
    "        },\n",
    "        \"disparity\": {\n",
    "            \"disparity_method\": \"wta\",\n",
    "            \"invalid_disparity\": -5\n",
    "        },\n",
    "        \"refinement\":{\n",
    "            \"refinement_method\" : \"optical_flow\",\n",
    "            \"iterations\": 4\n",
    "        }\n",
    "    }\n",
    "}"
   ]
  },
  {
   "cell_type": "markdown",
   "id": "finnish-commissioner",
   "metadata": {},
   "source": [
    "#### Check the configuration and sequence of steps"
   ]
  },
  {
   "cell_type": "code",
   "execution_count": null,
   "id": "cooked-adrian",
   "metadata": {},
   "outputs": [],
   "source": [
    "checked_cfg = check_conf(user_cfg, pandora2d_machine)"
   ]
  },
  {
   "cell_type": "code",
   "execution_count": null,
   "id": "adopted-tissue",
   "metadata": {},
   "outputs": [],
   "source": [
    "pipeline_cfg = checked_cfg['pipeline']\n",
    "pprint(pipeline_cfg)"
   ]
  },
  {
   "cell_type": "markdown",
   "id": "finite-legislation",
   "metadata": {},
   "source": [
    "#### Prepare the machine "
   ]
  },
  {
   "cell_type": "code",
   "execution_count": null,
   "id": "deadly-classics",
   "metadata": {},
   "outputs": [],
   "source": [
    "pandora2d_machine.run_prepare(image_datasets.left, image_datasets.right, checked_cfg)"
   ]
  },
  {
   "cell_type": "markdown",
   "id": "vietnamese-vietnam",
   "metadata": {},
   "source": [
    "#### Trigger the machine step by step"
   ]
  },
  {
   "cell_type": "code",
   "execution_count": null,
   "id": "better-establishment",
   "metadata": {},
   "outputs": [],
   "source": [
    "plot_state_machine(pandora2d_machine)"
   ]
  },
  {
   "cell_type": "markdown",
   "id": "activated-usage",
   "metadata": {},
   "source": [
    "Run matching cost "
   ]
  },
  {
   "cell_type": "code",
   "execution_count": null,
   "id": "vietnamese-prime",
   "metadata": {},
   "outputs": [],
   "source": [
    "pandora2d_machine.run('matching_cost', checked_cfg)"
   ]
  },
  {
   "cell_type": "code",
   "execution_count": null,
   "id": "diverse-canvas",
   "metadata": {},
   "outputs": [],
   "source": [
    "plot_state_machine(pandora2d_machine)"
   ]
  },
  {
   "cell_type": "markdown",
   "id": "illegal-wellington",
   "metadata": {},
   "source": [
    "Run disparity "
   ]
  },
  {
   "cell_type": "code",
   "execution_count": null,
   "id": "lasting-college",
   "metadata": {},
   "outputs": [],
   "source": [
    "pandora2d_machine.run('disparity', checked_cfg)"
   ]
  },
  {
   "cell_type": "code",
   "execution_count": null,
   "id": "comprehensive-bidding",
   "metadata": {},
   "outputs": [],
   "source": [
    "plot_state_machine(pandora2d_machine)"
   ]
  },
  {
   "cell_type": "code",
   "execution_count": null,
   "id": "decent-society",
   "metadata": {},
   "outputs": [],
   "source": [
    "plot_two_images(dataset[\"row_map\"].data,\n",
    "                dataset[\"col_map\"].data,\n",
    "                \"Row disparity map\",\n",
    "                \"Columns disparity map\", \n",
    "                output_dir, \n",
    "                cmap=pandora_cmap())"
   ]
  },
  {
   "cell_type": "markdown",
   "id": "suspended-sampling",
   "metadata": {},
   "source": [
    "Run refinement "
   ]
  },
  {
   "cell_type": "code",
   "execution_count": null,
   "id": "educated-waste",
   "metadata": {},
   "outputs": [],
   "source": [
    "pandora2d_machine.run('refinement', checked_cfg)"
   ]
  },
  {
   "cell_type": "code",
   "execution_count": null,
   "id": "sharp-punch",
   "metadata": {},
   "outputs": [],
   "source": [
    "plot_state_machine(pandora2d_machine)"
   ]
  },
  {
   "cell_type": "markdown",
   "id": "removable-carry",
   "metadata": {},
   "source": [
    "Visualize output disparity map"
   ]
  },
  {
   "cell_type": "code",
   "execution_count": null,
   "id": "engaging-gregory",
   "metadata": {},
   "outputs": [],
   "source": [
    "plot_two_images(dataset[\"row_map\"].data,\n",
    "                dataset[\"col_map\"].data,\n",
    "                \"Row refined disparity map\",\n",
    "                \"Columns refined disparity map\", \n",
    "                output_dir, \n",
    "                cmap=pandora_cmap())"
   ]
  },
  {
   "cell_type": "code",
   "execution_count": null,
   "id": "15aa2d6b-4663-40e4-987c-ee5ee89564dc",
   "metadata": {},
   "outputs": [],
   "source": []
  }
 ],
 "metadata": {
  "kernelspec": {
   "display_name": "Python 3 (ipykernel)",
   "language": "python",
   "name": "python3"
  },
  "language_info": {
   "codemirror_mode": {
    "name": "ipython",
    "version": 3
   },
   "file_extension": ".py",
   "mimetype": "text/x-python",
   "name": "python",
   "nbconvert_exporter": "python",
   "pygments_lexer": "ipython3",
   "version": "3.10.12"
  }
 },
 "nbformat": 4,
 "nbformat_minor": 5
}
