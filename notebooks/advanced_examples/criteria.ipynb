{
 "cells": [
  {
   "cell_type": "markdown",
   "id": "47ca4223-addc-4b9e-b6c2-f5bedcc73966",
   "metadata": {},
   "source": [
    "<img src=\"../img/pandora2d_logo.png\" width=\"500\" height=\"500\">"
   ]
  },
  {
   "cell_type": "markdown",
   "id": "e753da50-e461-41e7-9174-c53c1d2e4665",
   "metadata": {},
   "source": [
    "# Criteria"
   ]
  },
  {
   "cell_type": "markdown",
   "id": "e01b332e-eb0c-4382-9276-8e3656800a31",
   "metadata": {},
   "source": [
    "The validity of each pixel and its associated similarity values is flagged so that there is an information about what a computation can do with a pixel."
   ]
  },
  {
   "cell_type": "markdown",
   "id": "31e34188-414d-4685-9322-8da1d99d3650",
   "metadata": {},
   "source": [
    "This Notebook propose to see how those flags (called `Criteria` in Pandora2D) are used."
   ]
  },
  {
   "cell_type": "markdown",
   "id": "2fa500e2-fb25-4dbf-a67f-63a61110186e",
   "metadata": {},
   "source": [
    "## Basics of Criteria"
   ]
  },
  {
   "cell_type": "markdown",
   "id": "028e572f-0934-410f-86af-a1513defa2b6",
   "metadata": {},
   "source": [
    "`Criteria` is an Enum located in the `constants` module of pandora2d:"
   ]
  },
  {
   "cell_type": "code",
   "execution_count": null,
   "id": "87ab3aea-b1ed-4c9a-883f-9d6371739da2",
   "metadata": {},
   "outputs": [],
   "source": [
    "from pandora2d.constants import Criteria"
   ]
  },
  {
   "cell_type": "markdown",
   "id": "d501f33a-ed56-48a6-802b-733374b8daa2",
   "metadata": {},
   "source": [
    "`Criteria` gots members who's values are power of 2. It's possible to list them by iterating the `Criteria` class:"
   ]
  },
  {
   "cell_type": "code",
   "execution_count": null,
   "id": "c6e401c1-8dd0-4aa9-aa7c-9ee75dc7e28d",
   "metadata": {},
   "outputs": [],
   "source": [
    "list(Criteria)"
   ]
  },
  {
   "cell_type": "markdown",
   "id": "264498eb-7ff8-4fdc-b565-b31168fa2395",
   "metadata": {},
   "source": [
    "`Criteria` inherits from `enum.IntFlag`. One can refer to the [official documentation](https://docs.python.org/3/howto/enum.html#intflag) to get more information on its usage, but basically, here are the two most common usages:"
   ]
  },
  {
   "cell_type": "markdown",
   "id": "86da49c6-5397-42a7-98d4-b2a9d13c3753",
   "metadata": {},
   "source": [
    "- `Criteria` values can be combined with the logical or operator:"
   ]
  },
  {
   "cell_type": "code",
   "execution_count": null,
   "id": "1ab65430-3cf3-4a19-91e2-e6ea5b1789d8",
   "metadata": {},
   "outputs": [],
   "source": [
    "new_criteria = Criteria.P2D_INVALID_MASK_RIGHT | Criteria.P2D_PEAK_ON_EDGE\n",
    "new_criteria"
   ]
  },
  {
   "cell_type": "markdown",
   "id": "7c47c5cf-b67b-45f0-b3b3-706990c6a656",
   "metadata": {},
   "source": [
    "- one can check if a `Criteria` value is part of a compound criteria with the `in` statement:"
   ]
  },
  {
   "cell_type": "code",
   "execution_count": null,
   "id": "a60332da-d75b-495f-ac7f-8e938361e83b",
   "metadata": {},
   "outputs": [],
   "source": [
    "Criteria.P2D_PEAK_ON_EDGE in new_criteria"
   ]
  },
  {
   "cell_type": "markdown",
   "id": "dc4f34c6-fb1d-4478-9277-29c338945dd9",
   "metadata": {},
   "source": [
    "## Usage with numpy arrays"
   ]
  },
  {
   "cell_type": "markdown",
   "id": "5f50fa67-9c4c-4cce-8d1e-b233259a4d16",
   "metadata": {},
   "source": [
    "Internally values are stored as integers. So when `Criteria` are stored in a numpy array, its dtype is `np.int64`:"
   ]
  },
  {
   "cell_type": "code",
   "execution_count": null,
   "id": "8b061144-e234-42a2-9d0c-acbb450fc62a",
   "metadata": {},
   "outputs": [],
   "source": [
    "import numpy as np"
   ]
  },
  {
   "cell_type": "code",
   "execution_count": null,
   "id": "f4f9bd35-69bf-416e-9a5e-0df9a01ea8e0",
   "metadata": {},
   "outputs": [],
   "source": [
    "array = np.array(\n",
    "    [\n",
    "        Criteria.P2D_INVALID_MASK_LEFT,\n",
    "        Criteria.P2D_PEAK_ON_EDGE | Criteria.P2D_INVALID_MASK_RIGHT,\n",
    "    ]\n",
    ")"
   ]
  },
  {
   "cell_type": "code",
   "execution_count": null,
   "id": "cd3c71c2-db84-41b7-bcec-4a8f7dbfc60e",
   "metadata": {},
   "outputs": [],
   "source": [
    "array.dtype"
   ]
  },
  {
   "cell_type": "markdown",
   "id": "803605bd-75b2-4db3-ac34-1c3c63ca4dcf",
   "metadata": {},
   "source": [
    "It's possible to force the dtype to be `np.uint8` in order to take less space in memory:"
   ]
  },
  {
   "cell_type": "code",
   "execution_count": null,
   "id": "b433cbc1-d6c6-4cd2-81bc-2b3709c169c7",
   "metadata": {},
   "outputs": [],
   "source": [
    "array_uint8 = np.array(\n",
    "    [\n",
    "        Criteria.P2D_INVALID_MASK_LEFT,\n",
    "        Criteria.P2D_PEAK_ON_EDGE | Criteria.P2D_INVALID_MASK_RIGHT,\n",
    "    ],\n",
    "    dtype=np.uint8,\n",
    ")"
   ]
  },
  {
   "cell_type": "code",
   "execution_count": null,
   "id": "98046c3a-db91-4cbd-bb80-d3afa3aca9ab",
   "metadata": {},
   "outputs": [],
   "source": [
    "array_uint8.dtype"
   ]
  },
  {
   "cell_type": "code",
   "execution_count": null,
   "id": "c41a3d57-7a68-440e-82d2-a8ff31f87f9d",
   "metadata": {},
   "outputs": [],
   "source": [
    "print(f\"Size of array in memory: {array.nbytes} bytes\\nSize of the array_uint8 in memory: {array_uint8.nbytes} bytes\")"
   ]
  },
  {
   "cell_type": "markdown",
   "id": "24dacd07-4cae-4b80-939d-0974adde62c2",
   "metadata": {},
   "source": [
    "In both cases, arrays store integers, losing the relationship with `Criteria` objects, so the array representation is not meaningful:"
   ]
  },
  {
   "cell_type": "code",
   "execution_count": null,
   "id": "f28b7463-7e10-4b59-bb28-c324c594c4e9",
   "metadata": {},
   "outputs": [],
   "source": [
    "array_uint8"
   ]
  },
  {
   "cell_type": "markdown",
   "id": "c2292a82-2bfa-4e37-a2da-32a77c709f48",
   "metadata": {},
   "source": [
    "Moreover, the `in` statement can not be used anymore to check if a `Criteria` is part of a value.\n",
    "This will fail:\n",
    "\n",
    "```python\n",
    "Criteria.P2D_INVALID_MASK_RIGHT in array_uint8[0]\n",
    "```"
   ]
  },
  {
   "cell_type": "markdown",
   "id": "24104ff7-743b-403e-9767-aea1683a14f2",
   "metadata": {},
   "source": [
    "The value must be converted back to `Criteria` first:"
   ]
  },
  {
   "cell_type": "code",
   "execution_count": null,
   "id": "ce9716dd-074d-4083-ba45-253fb3ee6fd0",
   "metadata": {},
   "outputs": [],
   "source": [
    "first_criteria = Criteria(array_uint8[0])\n",
    "first_criteria"
   ]
  },
  {
   "cell_type": "code",
   "execution_count": null,
   "id": "0f5e4eea-6ae4-40b8-b3bf-a07666bb7209",
   "metadata": {},
   "outputs": [],
   "source": [
    "Criteria.P2D_INVALID_MASK_RIGHT in first_criteria"
   ]
  },
  {
   "cell_type": "markdown",
   "id": "3fded40e-a80a-4ee0-a71f-cf95c0445ec6",
   "metadata": {},
   "source": [
    "### `is_in` method"
   ]
  },
  {
   "cell_type": "markdown",
   "id": "a231dd4d-cd7e-493b-a3b3-decb86ab294e",
   "metadata": {},
   "source": [
    "As it is not very convenient to do this conversion each time, especially if it is needed to check a whole array, the method `is_in` was added to `Criteria`.\n",
    "\n",
    "It can take a single value as an argument:"
   ]
  },
  {
   "cell_type": "code",
   "execution_count": null,
   "id": "c1ab0e63-9927-412d-884e-c1823ccb9931",
   "metadata": {},
   "outputs": [],
   "source": [
    "Criteria.P2D_INVALID_MASK_RIGHT.is_in(array_uint8[0])"
   ]
  },
  {
   "cell_type": "markdown",
   "id": "ea5b7f6d-98b5-4fc9-9f70-494cb072a70e",
   "metadata": {},
   "source": [
    "Or an array:"
   ]
  },
  {
   "cell_type": "code",
   "execution_count": null,
   "id": "3b726750-b791-4c6b-95b3-dbdbddc19710",
   "metadata": {},
   "outputs": [],
   "source": [
    "Criteria.P2D_INVALID_MASK_RIGHT.is_in(array_uint8)"
   ]
  },
  {
   "cell_type": "markdown",
   "id": "50b0104d-6725-4ae4-8bad-4ac83f456796",
   "metadata": {},
   "source": [
    "### FlagArray"
   ]
  },
  {
   "cell_type": "markdown",
   "id": "ff84c62e-505b-4d0b-b75f-3db9981318cc",
   "metadata": {},
   "source": [
    "Futhermore, `Criteria` are stored in a dedicated numpy array subtype located in the pandora2d criteria module:"
   ]
  },
  {
   "cell_type": "code",
   "execution_count": null,
   "id": "b07a8740-f8ff-4092-93c9-167e75eb5b93",
   "metadata": {},
   "outputs": [],
   "source": [
    "from pandora2d.criteria import FlagArray"
   ]
  },
  {
   "cell_type": "markdown",
   "id": "19bd8d07-cc88-4c65-b267-c7ab6ff0e423",
   "metadata": {},
   "source": [
    "This is an ordinary array that stores `Criteria` as `np.uint8`, but an additional parameter that takes `Criteria` as argument was added:"
   ]
  },
  {
   "cell_type": "code",
   "execution_count": null,
   "id": "f1d10a9e-1b41-457f-b5fa-f581365ae75b",
   "metadata": {},
   "outputs": [],
   "source": [
    "flag_array = FlagArray(\n",
    "    [\n",
    "        Criteria.P2D_INVALID_MASK_LEFT,\n",
    "        Criteria.P2D_PEAK_ON_EDGE | Criteria.P2D_INVALID_MASK_RIGHT,\n",
    "    ],\n",
    "    flag=Criteria,\n",
    ")"
   ]
  },
  {
   "cell_type": "markdown",
   "id": "6f7b22a3-bce8-4581-9465-525b2b9439fe",
   "metadata": {},
   "source": [
    "This additional parameter is used to change the representation of the array:"
   ]
  },
  {
   "cell_type": "code",
   "execution_count": null,
   "id": "c19f94ad-afbc-486e-927a-5371a1c6bf84",
   "metadata": {},
   "outputs": [],
   "source": [
    "flag_array"
   ]
  },
  {
   "cell_type": "markdown",
   "id": "c1f617ff-33be-4733-9925-d0c891ad9433",
   "metadata": {},
   "source": [
    "but values are still `np.uint8`:"
   ]
  },
  {
   "cell_type": "code",
   "execution_count": null,
   "id": "0eee879a-fae5-49d4-be0e-1bc806c0d7b8",
   "metadata": {},
   "outputs": [],
   "source": [
    "type(flag_array[0])"
   ]
  },
  {
   "cell_type": "markdown",
   "id": "10ec65ed-f2b4-4329-8514-37a042ad70e1",
   "metadata": {},
   "source": [
    "so, to extract a `Criteria` from the array, the value still needs to be converted back to `Criteria`:"
   ]
  },
  {
   "cell_type": "code",
   "execution_count": null,
   "id": "5aabb044-4bb7-4a7c-bce3-1024b397d11b",
   "metadata": {},
   "outputs": [],
   "source": [
    "Criteria(flag_array[0])"
   ]
  },
  {
   "cell_type": "markdown",
   "id": "827d5a9e-8e30-4c1d-8639-fd14fbcf50f8",
   "metadata": {},
   "source": [
    "### Implicit convertion"
   ]
  },
  {
   "cell_type": "markdown",
   "id": "1b7e2ba2-d6af-445d-8839-30c004831296",
   "metadata": {},
   "source": [
    "<div class=\"alert alert-block alert-warning\"> \n",
    " Beware implicite convertion when operation between Criteria and numpy arrays are done!\n",
    " </div>"
   ]
  },
  {
   "cell_type": "markdown",
   "id": "13e6580d-6c00-4293-8a34-b7042bb36763",
   "metadata": {},
   "source": [
    "Operation between `Criteria` and numpy array does an implicit convertion to `int64`:"
   ]
  },
  {
   "cell_type": "code",
   "execution_count": null,
   "id": "e69246a6-9b27-494d-8f72-cd0523514550",
   "metadata": {},
   "outputs": [],
   "source": [
    "flag_array | Criteria.P2D_RIGHT_DISPARITY_OUTSIDE"
   ]
  },
  {
   "cell_type": "markdown",
   "id": "e509ec96-4af6-4616-9c44-19ceb45e163b",
   "metadata": {},
   "source": [
    "When doing an in place operation, it will not be allowed without doing an explicit cast to `np.uint8`!\n",
    "\n",
    "Do not do:\n",
    "\n",
    "```python\n",
    "flag_array |= Criteria.P2D_RIGHT_DISPARITY_OUTSIDE\n",
    "```\n",
    "\n",
    "Do:"
   ]
  },
  {
   "cell_type": "code",
   "execution_count": null,
   "id": "02bc50a0-2a4a-444e-89d3-b9472fd4efbf",
   "metadata": {},
   "outputs": [],
   "source": [
    "flag_array |= np.uint8(Criteria.P2D_RIGHT_DISPARITY_OUTSIDE)\n",
    "\n",
    "flag_array"
   ]
  },
  {
   "cell_type": "markdown",
   "id": "4b2e2341-cb12-408a-a198-815ef3622b89",
   "metadata": {},
   "source": [
    "### The VALID flag"
   ]
  },
  {
   "cell_type": "markdown",
   "id": "f6fe4839-1d50-4507-9f0a-0e875bed5302",
   "metadata": {},
   "source": [
    "The `FlagArray` used in Pandora2D is initialized with the special `Criteria.VALID` flag which value is `0`."
   ]
  },
  {
   "cell_type": "code",
   "execution_count": null,
   "id": "677cab2d-f4cf-419b-b1ca-fa7c4528d6a1",
   "metadata": {},
   "outputs": [],
   "source": [
    "Criteria.VALID"
   ]
  },
  {
   "cell_type": "markdown",
   "id": "8f69d630-45d5-46b4-aaf4-f8923cc5ae20",
   "metadata": {},
   "source": [
    "When it is combined with another flag, this one takes the predominance:"
   ]
  },
  {
   "cell_type": "code",
   "execution_count": null,
   "id": "28c9dd41-9795-475b-a839-606edd319af4",
   "metadata": {},
   "outputs": [],
   "source": [
    "Criteria.VALID | Criteria.P2D_LEFT_BORDER"
   ]
  },
  {
   "cell_type": "markdown",
   "id": "b5f54f95-7d47-4d02-860a-1cda36bef11a",
   "metadata": {},
   "source": [
    "Indeed, if a flag is raised, the pixel is not *valid* anymore!"
   ]
  },
  {
   "cell_type": "markdown",
   "id": "6b134ab3-340f-4e60-ba28-94128d43d0e4",
   "metadata": {},
   "source": [
    "<div class=\"alert alert-block alert-warning\"> \n",
    " But cares must be taken when the validity of a `Critera` has to be checked!\n",
    " </div>"
   ]
  },
  {
   "cell_type": "markdown",
   "id": "386970bf-4df7-48ba-b0e9-9671aab8a2a8",
   "metadata": {},
   "source": [
    "Since it's value is `0`, it is found in every other `Criteria`:"
   ]
  },
  {
   "cell_type": "code",
   "execution_count": null,
   "id": "295d7fe5-bde5-4744-a28f-f50243bbdeda",
   "metadata": {},
   "outputs": [],
   "source": [
    "Criteria.VALID.is_in(np.array(Criteria))"
   ]
  },
  {
   "cell_type": "code",
   "execution_count": null,
   "id": "bebb1750-e071-4165-b26b-752147f77a6c",
   "metadata": {},
   "outputs": [],
   "source": [
    "valid_array = np.array([Criteria.VALID, Criteria.P2D_PEAK_ON_EDGE], dtype=np.uint8)"
   ]
  },
  {
   "cell_type": "code",
   "execution_count": null,
   "id": "1cea4bff-c184-40a7-82cb-3ba546db3556",
   "metadata": {},
   "outputs": [],
   "source": [
    "Criteria.VALID == valid_array"
   ]
  },
  {
   "cell_type": "markdown",
   "id": "0a943cb3-2703-4c83-83d7-d837438e063c",
   "metadata": {},
   "source": [
    "While it is possible to use this method, it is more efficient to use the fact that `VALID` value is `0` and that `0` is falsy (i.e. when converted to a bool, it is considered as `False` while other values are considered `True`):"
   ]
  },
  {
   "cell_type": "code",
   "execution_count": null,
   "id": "8dc582c9-bd03-47ef-9f27-05d8659fa412",
   "metadata": {},
   "outputs": [],
   "source": [
    "~valid_array.astype(bool)"
   ]
  },
  {
   "cell_type": "code",
   "execution_count": null,
   "id": "a46594c1-e33c-49e1-9916-612fb1270f48",
   "metadata": {},
   "outputs": [],
   "source": [
    "big_valid_array = np.full(10000, Criteria.VALID, dtype=np.uint8)\n",
    "big_valid_array[::2] = np.uint8(Criteria.P2D_PEAK_ON_EDGE)\n",
    "big_valid_array"
   ]
  },
  {
   "cell_type": "code",
   "execution_count": null,
   "id": "2eaef032-c368-49e6-a725-06ac8cd4e74d",
   "metadata": {},
   "outputs": [],
   "source": [
    "%%timeit\n",
    "Criteria.VALID == big_valid_array"
   ]
  },
  {
   "cell_type": "code",
   "execution_count": null,
   "id": "21b9426a-79ec-429f-a16f-62d0fc758050",
   "metadata": {},
   "outputs": [],
   "source": [
    "%%timeit\n",
    "~big_valid_array.astype(bool)"
   ]
  }
 ],
 "metadata": {
  "kernelspec": {
   "display_name": "venv",
   "language": "python",
   "name": "python3"
  },
  "language_info": {
   "codemirror_mode": {
    "name": "ipython",
    "version": 3
   },
   "file_extension": ".py",
   "mimetype": "text/x-python",
   "name": "python",
   "nbconvert_exporter": "python",
   "pygments_lexer": "ipython3",
   "version": "3.10.12"
  }
 },
 "nbformat": 4,
 "nbformat_minor": 5
}
