{
 "cells": [
  {
   "cell_type": "markdown",
   "id": "df77c323-523c-4f84-9d1c-e659d28fbea5",
   "metadata": {},
   "source": [
    "<img src=\"../img/pandora2d_logo.png\" width=\"500\" height=\"500\">"
   ]
  },
  {
   "cell_type": "markdown",
   "id": "6558ed6f-9da3-41ea-bef9-7692ed40930c",
   "metadata": {},
   "source": [
    "# The purpose of this notebook is to explain the concept of margins"
   ]
  },
  {
   "cell_type": "markdown",
   "id": "6496ad8c-e5b8-40c4-949e-a4e699c91e22",
   "metadata": {},
   "source": [
    "Margins are used when using ROI, see ROI documentation [here](https://pandora2d.readthedocs.io/en/stable/userguide/roi.html).  \n",
    "These margins allow us to have all the pixels we need to apply treatments to the ROI.\n",
    "\n",
    "**Notebook plan**  \n",
    "In the first part, you'll find the theoretical part with diagrams.  \n",
    "In the second, you'll find a configuration that you can modify, giving you at the end the pixel area required for the input ROI."
   ]
  },
  {
   "cell_type": "markdown",
   "id": "1cb827a7-46cd-4493-ad40-951e925ff4c6",
   "metadata": {},
   "source": [
    "## Theoretical part"
   ]
  },
  {
   "cell_type": "markdown",
   "id": "9ea89031-c298-461b-a3ca-9d0287fba1e1",
   "metadata": {},
   "source": [
    "#### explain image"
   ]
  },
  {
   "cell_type": "markdown",
   "id": "25c2f8ba-1841-4b3e-8505-13772590abb4",
   "metadata": {},
   "source": [
    "**Option n°1 : Dmin < 0 & m >= 0 & |Dmin| >= m**"
   ]
  },
  {
   "cell_type": "markdown",
   "id": "ee6ae6ca-eb31-4164-b011-a3431f11e0af",
   "metadata": {},
   "source": [
    "<img src=\"../img/margin_cas_dmin_negative_and_superior_m.svg\" width=\"900\" style=\"display: block; margin: 0 auto\">"
   ]
  },
  {
   "cell_type": "markdown",
   "id": "7656445d-a46d-4113-9b22-e5f2d494a68b",
   "metadata": {},
   "source": [
    "**Option n°2 : Dmin > 0 & m >= 0 & Dmin >= m**"
   ]
  },
  {
   "cell_type": "markdown",
   "id": "43c61a05-194d-4432-b721-6aa9e259aebd",
   "metadata": {},
   "source": [
    "<img src=\"../img/margin_cas_dmin_positive_and_superior_m.svg\" width=\"900\" style=\"display: block; margin: 0 auto\">"
   ]
  },
  {
   "cell_type": "markdown",
   "id": "0a09879a-36a1-4bbf-be3f-b8c7a5dd506c",
   "metadata": {},
   "source": [
    "**Option n°3 : Dmin < 0 & m >= 0 & |Dmin| < m**"
   ]
  },
  {
   "cell_type": "markdown",
   "id": "bb35eff7-021f-488e-b0f2-704db6b86ce5",
   "metadata": {},
   "source": [
    "<img src=\"../img/margin_cas_dmin_negative_and_inferior_m.svg\" width=\"900\" style=\"display: block; margin: 0 auto\">"
   ]
  },
  {
   "cell_type": "markdown",
   "id": "3ab4221b-2d4d-4d6c-9345-6c4c6b75a1c1",
   "metadata": {},
   "source": [
    "**Option n°4 : Dmin > 0 & m >= 0 & Dmin < m**"
   ]
  },
  {
   "cell_type": "markdown",
   "id": "ea8a7e0e-eeff-46f5-a77c-bdc03e282927",
   "metadata": {},
   "source": [
    "<img src=\"../img/margin_cas_dmin_positive_and_inferior_m.svg\" width=\"900\" style=\"display: block; margin: 0 auto\">"
   ]
  },
  {
   "cell_type": "markdown",
   "id": "66640b95-503e-46e8-895f-f4b54d8a5357",
   "metadata": {},
   "source": [
    "**The formula which summarises the 4 options is as follows**  \n",
    "<p style=\"text-align:center;\">$max(m - disp_{min}, 0)$</p>"
   ]
  },
  {
   "cell_type": "markdown",
   "id": "2ae7d653-b053-43b4-842f-321d24c0441e",
   "metadata": {},
   "source": [
    "## Pratical part"
   ]
  },
  {
   "cell_type": "markdown",
   "id": "d4e78f58-3fb9-4481-b65a-e8421b587550",
   "metadata": {},
   "source": [
    "### Imports and external functions"
   ]
  },
  {
   "cell_type": "code",
   "execution_count": null,
   "id": "1d88e247-977d-417c-81fb-c8e2483692ca",
   "metadata": {},
   "outputs": [],
   "source": [
    "import io\n",
    "from pathlib import Path\n",
    "from IPython.display import Image, display\n",
    "from pprint import pprint\n",
    "import numpy as np\n",
    "import matplotlib.pyplot as plt\n",
    "from matplotlib.patches import Rectangle "
   ]
  },
  {
   "cell_type": "markdown",
   "id": "9eb3fd42-18c3-4cb2-a0a8-f51258ca85a1",
   "metadata": {},
   "source": [
    "### Imports of pandora2d"
   ]
  },
  {
   "cell_type": "code",
   "execution_count": null,
   "id": "d569ee5c-0890-4eab-a033-9dfe4bed28f9",
   "metadata": {},
   "outputs": [],
   "source": [
    "# Load pandora2d imports\n",
    "from pandora2d.state_machine import Pandora2DMachine\n",
    "from pandora2d.check_configuration import check_conf\n",
    "from pandora2d.img_tools import create_datasets_from_inputs, get_roi_processing"
   ]
  },
  {
   "cell_type": "markdown",
   "id": "f0098818-592f-46b0-b97d-6d1ef02c4b2f",
   "metadata": {},
   "source": [
    "### Load and visualize input data "
   ]
  },
  {
   "cell_type": "markdown",
   "id": "8ff9f3da-8aad-44c8-b740-756af901e819",
   "metadata": {},
   "source": [
    "#### Provide image path"
   ]
  },
  {
   "cell_type": "code",
   "execution_count": null,
   "id": "f907912c-36ec-4d77-b3dc-dffe30fd1cfb",
   "metadata": {},
   "outputs": [],
   "source": [
    "# Paths to left and right images\n",
    "img_left_path = \"../data/left.tif\"\n",
    "img_right_path = \"../data/right.tif\""
   ]
  },
  {
   "cell_type": "markdown",
   "id": "be7180de-498d-4eaa-9124-b9e1cf3225ed",
   "metadata": {},
   "source": [
    "#### Provide output directory to write results"
   ]
  },
  {
   "cell_type": "code",
   "execution_count": null,
   "id": "58cbcade-7bf8-4623-9ba4-8cced6bb80f3",
   "metadata": {},
   "outputs": [],
   "source": [
    "output_dir = Path.cwd() / \"output_margins\"\n",
    "# If necessary, create output dir\n",
    "output_dir.mkdir(exist_ok=True,parents=True)"
   ]
  },
  {
   "cell_type": "markdown",
   "id": "728d3cd9-9a82-4e0f-915e-34537b1d0005",
   "metadata": {},
   "source": [
    "#### Mode ROI"
   ]
  },
  {
   "cell_type": "code",
   "execution_count": null,
   "id": "565a16fc-cfa2-4f46-b3e3-e0c86565a612",
   "metadata": {},
   "outputs": [],
   "source": [
    "roi_mode = True"
   ]
  },
  {
   "cell_type": "markdown",
   "id": "5323f85b-fa4c-4b0e-acd3-ba347942c67b",
   "metadata": {},
   "source": [
    "#### User configuration"
   ]
  },
  {
   "cell_type": "code",
   "execution_count": null,
   "id": "2a91144b-e436-4f40-8173-183d4c5d4117",
   "metadata": {},
   "outputs": [],
   "source": [
    "user_cfg = {\n",
    "    \"input\": {\n",
    "        \"left\": {\n",
    "            \"img\": img_left_path,\n",
    "            \"nodata\": \"NaN\",\n",
    "        },\n",
    "        \"right\": {\n",
    "            \"img\": img_right_path,\n",
    "        },\n",
    "        \"col_disparity\": {\"init\": 0, \"range\": 2},\n",
    "        \"row_disparity\": {\"init\": 0, \"range\": 2},\n",
    "    },\n",
    "    \"pipeline\":{\n",
    "        \"matching_cost\" : {\n",
    "            \"matching_cost_method\": \"zncc\",\n",
    "            \"window_size\": 5,\n",
    "        },\n",
    "        \"disparity\": {\n",
    "            \"disparity_method\": \"wta\",\n",
    "            \"invalid_disparity\": -2\n",
    "        },\n",
    "        \"refinement\":{\n",
    "          \"refinement_method\": \"dichotomy\",\n",
    "          \"filter\": {\"method\": \"bicubic\"},\n",
    "          \"iterations\" : 3\n",
    "        },\n",
    "    },\n",
    "    \"output\": {\n",
    "        \"path\": \"outputs/test_margins\"\n",
    "    },\n",
    "}"
   ]
  },
  {
   "cell_type": "code",
   "execution_count": null,
   "id": "e27bf825-4f70-43d6-8961-37490e23f480",
   "metadata": {},
   "outputs": [],
   "source": [
    "user_cfg_with_roi = {\n",
    "    \"input\": {\n",
    "        \"left\": {\n",
    "            \"img\": img_left_path,\n",
    "            \"nodata\": \"NaN\",\n",
    "        },\n",
    "        \"right\": {\n",
    "            \"img\": img_right_path,\n",
    "        },\n",
    "        \"col_disparity\": {\"init\": 0, \"range\": 1},\n",
    "        \"row_disparity\": {\"init\": 0, \"range\": 1},\n",
    "    },\n",
    "    \"ROI\":{\n",
    "        \"col\": {\"first\": 9, \"last\": 10},\n",
    "        \"row\": {\"first\": 5, \"last\": 9}\n",
    "    },\n",
    "    \"pipeline\":{\n",
    "        \"matching_cost\" : {\n",
    "            \"matching_cost_method\": \"zncc\",\n",
    "            \"window_size\": 5,\n",
    "        },\n",
    "        \"disparity\": {\n",
    "            \"disparity_method\": \"wta\",\n",
    "            \"invalid_disparity\": -2\n",
    "        },\n",
    "        \"refinement\":\n",
    "        {\n",
    "          \"refinement_method\": \"dichotomy\",\n",
    "          \"filter\": {\"method\": \"bicubic\"},\n",
    "          \"iterations\" : 3\n",
    "        },\n",
    "    },\n",
    "    \"output\": {\n",
    "        \"path\": \"outputs/test_margins_with_roi\"\n",
    "    },\n",
    "}"
   ]
  },
  {
   "cell_type": "markdown",
   "id": "1b9c562d-951d-40cc-aa23-4b58e5dcdee5",
   "metadata": {},
   "source": [
    "### Instantiate the machine"
   ]
  },
  {
   "cell_type": "code",
   "execution_count": null,
   "id": "7ccfbc5d-cca8-4b60-82b8-3f2068f9e132",
   "metadata": {},
   "outputs": [],
   "source": [
    "pandora2d_machine = Pandora2DMachine()"
   ]
  },
  {
   "cell_type": "markdown",
   "id": "45ffc0c0-d73c-4a79-8845-2091cc40e0d5",
   "metadata": {},
   "source": [
    "### Check the configuration and sequence of steps"
   ]
  },
  {
   "cell_type": "code",
   "execution_count": null,
   "id": "737b52b4-82a0-43ef-b821-749ffafe2de1",
   "metadata": {},
   "outputs": [],
   "source": [
    "if not roi_mode:\n",
    "    checked_cfg = check_conf(user_cfg, pandora2d_machine)\n",
    "else:\n",
    "    # Mode ROI\n",
    "    checked_cfg = check_conf(user_cfg_with_roi, pandora2d_machine)\n",
    "pprint(checked_cfg['pipeline'])"
   ]
  },
  {
   "cell_type": "markdown",
   "id": "546d2985-2629-4c47-be88-27551ea5df94",
   "metadata": {},
   "source": [
    "#### Create dataset"
   ]
  },
  {
   "cell_type": "code",
   "execution_count": null,
   "id": "ccd26c04-36e0-4a1e-a348-b72537107153",
   "metadata": {},
   "outputs": [],
   "source": [
    "if not roi_mode:\n",
    "    img_left, img_right = create_datasets_from_inputs(input_config=checked_cfg[\"input\"])\n",
    "else:\n",
    "    # Mode ROI\n",
    "    checked_cfg[\"ROI\"][\"margins\"] = pandora2d_machine.margins_img.global_margins.astuple()\n",
    "    roi = get_roi_processing(checked_cfg[\"ROI\"], checked_cfg[\"input\"][\"col_disparity\"], checked_cfg[\"input\"][\"row_disparity\"])\n",
    "    print(f'{roi=}')\n",
    "    img_left, img_right = create_datasets_from_inputs(input_config=checked_cfg[\"input\"], roi=roi)"
   ]
  },
  {
   "cell_type": "markdown",
   "id": "8077484f-1668-44a3-9066-19b5e8929d72",
   "metadata": {},
   "source": [
    "#### Check margins for dataset"
   ]
  },
  {
   "cell_type": "code",
   "execution_count": null,
   "id": "afcc7619-2e55-4c78-a730-481832d6a1c7",
   "metadata": {},
   "outputs": [],
   "source": [
    "pandora2d_machine.margins_img.global_margins.astuple()"
   ]
  },
  {
   "cell_type": "markdown",
   "id": "5b56040a-ddf0-4cfc-8b68-a2fd1afaecd3",
   "metadata": {},
   "source": [
    "#### Display masks (roi, disparity, window_size)"
   ]
  },
  {
   "cell_type": "code",
   "execution_count": null,
   "id": "831034ca-9d72-431a-8f61-c35dfc2fc9ba",
   "metadata": {},
   "outputs": [],
   "source": [
    "size = 14"
   ]
  },
  {
   "cell_type": "code",
   "execution_count": null,
   "id": "a379184e-6ba3-4a98-8adf-ce92f2e854dd",
   "metadata": {},
   "outputs": [],
   "source": [
    "def create_roi_patch(roi, col_disparity, row_disparity, image_margin, size=15):\n",
    "    upper_left_corner = (roi[\"col\"][\"first\"], roi[\"row\"][\"first\"])\n",
    "    width = roi[\"col\"][\"last\"] - roi[\"col\"][\"first\"] + 1\n",
    "    height = roi[\"row\"][\"last\"] - roi[\"row\"][\"first\"] + 1\n",
    "    return Rectangle(upper_left_corner, width, height, color=\"red\", label=\"User roi\")"
   ]
  },
  {
   "cell_type": "code",
   "execution_count": null,
   "id": "9de8284f-8933-432e-b74f-8ca582e641e4",
   "metadata": {},
   "outputs": [],
   "source": [
    "def create_disparity_patch(roi, col_disparity, row_disparity, image_margin, size=15):\n",
    "    dmin_row = int(np.min(row_disparity[\"init\"])) - row_disparity[\"range\"]\n",
    "    dmax_row = int(np.max(row_disparity[\"init\"])) + row_disparity[\"range\"]\n",
    "    dmin_col = int(np.min(col_disparity[\"init\"])) - col_disparity[\"range\"]\n",
    "    dmax_col = int(np.max(col_disparity[\"init\"])) + col_disparity[\"range\"]\n",
    "    upper_left_corner = (roi[\"col\"][\"first\"] + dmin_col, roi[\"row\"][\"first\"] + dmin_row)\n",
    "    width = (roi[\"col\"][\"last\"] + dmax_col) - (roi[\"col\"][\"first\"] + dmin_col) + 1\n",
    "    height = (roi[\"row\"][\"last\"] + dmax_row) - (roi[\"row\"][\"first\"] + dmin_row) + 1\n",
    "    return Rectangle(upper_left_corner, width, height, color=\"green\", label=\"User roi with disparity\")"
   ]
  },
  {
   "cell_type": "code",
   "execution_count": null,
   "id": "3d42ecc8-beab-4d0c-91cb-8c32ab1fe20e",
   "metadata": {},
   "outputs": [],
   "source": [
    "def create_disparity_with_matchingcost_window_patch(roi, col_disparity, row_disparity, image_margin, size=15):\n",
    "    dmin_row = int(np.min(row_disparity[\"init\"])) - row_disparity[\"range\"]\n",
    "    dmax_row = int(np.max(row_disparity[\"init\"])) + row_disparity[\"range\"]\n",
    "    dmin_col = int(np.min(col_disparity[\"init\"])) - col_disparity[\"range\"]\n",
    "    dmax_col = int(np.max(col_disparity[\"init\"])) + col_disparity[\"range\"]\n",
    "    first_row = max(roi[\"row\"][\"first\"] + dmin_row - image_margin,0)\n",
    "    last_row = min(roi[\"row\"][\"last\"] + dmax_row + image_margin, size)\n",
    "    first_col = max(roi[\"col\"][\"first\"] + dmin_col - image_margin,0)\n",
    "    last_col = min(roi[\"col\"][\"last\"] + dmax_col + image_margin, size)\n",
    "    upper_left_corner = (first_col, first_row)\n",
    "    width = (last_col - first_col) + 1\n",
    "    height = (last_row - first_row) + 1\n",
    "    return Rectangle(upper_left_corner, width, height, color=\"blue\", label=\"User roi with disparity + matching_cost window\")"
   ]
  },
  {
   "cell_type": "code",
   "execution_count": null,
   "id": "b2073245-bd78-4eb7-8dcf-ae218589fd7e",
   "metadata": {},
   "outputs": [],
   "source": [
    "# Left image\n",
    "left_image = np.full((size,size,3), 0)\n",
    "\n",
    "roi_row = [roi[\"row\"][\"first\"], roi[\"row\"][\"last\"]+1]\n",
    "roi_col = [roi[\"col\"][\"first\"], roi[\"col\"][\"last\"]+1]\n",
    "left_image[roi_row[0]:roi_row[1], roi_col[0]:roi_col[1], 0] = 255"
   ]
  },
  {
   "cell_type": "code",
   "execution_count": null,
   "id": "24399973-16de-47b3-84a5-473a2c378672",
   "metadata": {},
   "outputs": [],
   "source": [
    "# Params\n",
    "cfg_roi = checked_cfg[\"ROI\"]\n",
    "col_disparity = checked_cfg[\"input\"][\"col_disparity\"]\n",
    "row_disparity = checked_cfg[\"input\"][\"row_disparity\"]\n",
    "image_margin = pandora2d_machine.margins_img.global_margins.astuple()[0]\n",
    "\n",
    "patches_arguments = cfg_roi, col_disparity, row_disparity, image_margin, size\n",
    "# Get patches\n",
    "left_image_patches = [\n",
    "    create_roi_patch(*patches_arguments),\n",
    "]\n",
    "right_image_patches = [\n",
    "    create_disparity_with_matchingcost_window_patch(*patches_arguments),\n",
    "    create_disparity_patch(*patches_arguments),\n",
    "    create_roi_patch(*patches_arguments),\n",
    "]\n",
    "\n",
    "# Plot figures\n",
    "fig = plt.figure(figsize=(10,10))\n",
    "ax0 = fig.add_subplot(1,2,1)\n",
    "ax0.set_xlim([0,size])\n",
    "ax0.set_ylim([0,size])\n",
    "ax0.yaxis.set_inverted(True)\n",
    "ax0.tick_params(bottom=False, top=True, labelbottom=False,labeltop=True)\n",
    "for artist in left_image_patches:\n",
    "    ax0.add_artist(artist)\n",
    "ax0.set_aspect('equal', 'box')\n",
    "ax0.grid(True, which='both', linestyle='--', axis='both')\n",
    "plt.title(\"Left image\")\n",
    "\n",
    "ax1 = fig.add_subplot(1,2,2)\n",
    "ax1.set_xlim([0,size])\n",
    "ax1.set_ylim([0,size])\n",
    "ax1.yaxis.set_inverted(True)\n",
    "for artist in right_image_patches:\n",
    "    ax1.add_artist(artist)\n",
    "ax1.set_aspect('equal', 'box')\n",
    "ax1.grid(True, which='both', linestyle='--', axis='both')\n",
    "plt.title(\"Right image\")\n",
    "\n",
    "plt.legend(handles=right_image_patches, bbox_to_anchor=(1.05, 1), loc=2, borderaxespad=0. )\n"
   ]
  }
 ],
 "metadata": {
  "kernelspec": {
   "display_name": "venv",
   "language": "python",
   "name": "python3"
  },
  "language_info": {
   "codemirror_mode": {
    "name": "ipython",
    "version": 3
   },
   "file_extension": ".py",
   "mimetype": "text/x-python",
   "name": "python",
   "nbconvert_exporter": "python",
   "pygments_lexer": "ipython3",
   "version": "3.10.12"
  }
 },
 "nbformat": 4,
 "nbformat_minor": 5
}
